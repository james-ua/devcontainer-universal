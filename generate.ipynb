{
 "cells": [
  {
   "cell_type": "code",
   "execution_count": 1,
   "metadata": {},
   "outputs": [
    {
     "name": "stdout",
     "output_type": "stream",
     "text": [
      "Requirement already satisfied: faker in ./.venv/lib/python3.11/site-packages (24.4.0)\n",
      "Requirement already satisfied: python-dateutil>=2.4 in /home/codespace/.local/lib/python3.11/site-packages (from faker) (2.9.0.post0)\n",
      "Requirement already satisfied: six>=1.5 in /home/codespace/.local/lib/python3.11/site-packages (from python-dateutil>=2.4->faker) (1.16.0)\n",
      "\n",
      "\u001b[1m[\u001b[0m\u001b[34;49mnotice\u001b[0m\u001b[1;39;49m]\u001b[0m\u001b[39;49m A new release of pip is available: \u001b[0m\u001b[31;49m23.2.1\u001b[0m\u001b[39;49m -> \u001b[0m\u001b[32;49m24.0\u001b[0m\n",
      "\u001b[1m[\u001b[0m\u001b[34;49mnotice\u001b[0m\u001b[1;39;49m]\u001b[0m\u001b[39;49m To update, run: \u001b[0m\u001b[32;49mpip install --upgrade pip\u001b[0m\n"
     ]
    }
   ],
   "source": [
    "!pip install faker"
   ]
  },
  {
   "cell_type": "code",
   "execution_count": 1,
   "metadata": {},
   "outputs": [
    {
     "name": "stderr",
     "output_type": "stream",
     "text": [
      "Setting default log level to \"WARN\".\n",
      "To adjust logging level use sc.setLogLevel(newLevel). For SparkR, use setLogLevel(newLevel).\n",
      "24/04/02 13:57:05 WARN NativeCodeLoader: Unable to load native-hadoop library for your platform... using builtin-java classes where applicable\n",
      "24/04/02 13:57:10 WARN HiveConf: HiveConf of name hive.stats.jdbc.timeout does not exist\n",
      "24/04/02 13:57:10 WARN HiveConf: HiveConf of name hive.stats.retries.wait does not exist\n",
      "24/04/02 13:57:13 WARN ObjectStore: Version information not found in metastore. hive.metastore.schema.verification is not enabled so recording the schema version 2.3.0\n",
      "24/04/02 13:57:13 WARN ObjectStore: setMetaStoreSchemaVersion called but recording version is disabled: version = 2.3.0, comment = Set by MetaStore codespace@172.17.0.3\n"
     ]
    },
    {
     "name": "stdout",
     "output_type": "stream",
     "text": [
      "[Database(name='default', catalog='spark_catalog', description='Default Hive database', locationUri='file:/workspaces/devcontainer-universal/spark-warehouse')]\n"
     ]
    },
    {
     "name": "stderr",
     "output_type": "stream",
     "text": [
      "24/04/02 13:57:19 WARN GarbageCollectionMetrics: To enable non-built-in garbage collector(s) List(G1 Concurrent GC), users should configure it(them) to spark.eventLog.gcMetrics.youngGenerationGarbageCollectors or spark.eventLog.gcMetrics.oldGenerationGarbageCollectors\n"
     ]
    }
   ],
   "source": [
    "import pyspark\n",
    "from faker import Faker\n",
    "from pyspark.sql import SparkSession, DataFrame, functions as F, types as t\n",
    "from pyspark.sql.window import Window\n",
    "import random\n",
    "from datetime import datetime, timedelta, date\n",
    "\n",
    "spark = SparkSession \\\n",
    "    .builder \\\n",
    "    .master(\"local[1]\") \\\n",
    "    .appName(\"pyspark-test01\") \\\n",
    "    .config(\"spark.sql.warehouse.dir\", \"spark-warehouse\") \\\n",
    "    .enableHiveSupport() \\\n",
    "    .getOrCreate()\n",
    "print(spark.catalog.listDatabases())\n",
    "\n",
    "fake = Faker()\n"
   ]
  },
  {
   "cell_type": "code",
   "execution_count": 39,
   "metadata": {
    "tags": [
     "UDFs"
    ]
   },
   "outputs": [],
   "source": [
    "@F.udf(t.IntegerType())\n",
    "def f_int(min:int, max:int) -> int:\n",
    "    return fake.random_int(min=min, max=max)\n",
    "\n",
    "@F.udf(t.IntegerType())\n",
    "def f_intUnique(min:int, max:int) -> int:\n",
    "    return fake.unique.random_int(min=min, max=max)\n",
    "\n",
    "@F.udf(t.DecimalType())\n",
    "def f_decimal(min:int, max:int) -> float:\n",
    "    return fake.pydecimal(left_digits=12, right_digits=2, positive = True, min_value=min, max_value=max)\n",
    "\n",
    "@F.udf(t.StringType())\n",
    "def f_choise(list:list, weights:list) -> str:\n",
    "    return random.choices(list,weights=weights)[0]\n",
    "\n",
    "@F.udf(t.StringType())\n",
    "def f_choise_active() -> str:\n",
    "    return random.choices(['Active', 'Inactive'],weights=[0.8,0.2])[0]\n",
    "\n",
    "@F.udf(t.BooleanType())\n",
    "def f_bool() -> bool:\n",
    "    return fake.boolean()\n",
    "\n",
    "@F.udf(t.StringType())\n",
    "def f_GUID() -> str:\n",
    "    return fake.uuid4()\n",
    "\n",
    "@F.udf(t.StringType())\n",
    "def f_hash() -> str:\n",
    "    return fake.md5(raw_output=False)\n",
    "\n",
    "@F.udf(t.StringType())\n",
    "def f_date(start:str='-3y', end:str='now') -> str:\n",
    "    return str(fake.date_between(start_date=start, end_date=end))\n",
    "\n",
    "@F.udf(t.StringType())\n",
    "def f_timestamp(start:str='-3y', end:str='now') -> str:\n",
    "    return str(fake.date_time_between(start_date=start, end_date=end))\n"
   ]
  },
  {
   "cell_type": "code",
   "execution_count": 93,
   "metadata": {},
   "outputs": [
    {
     "name": "stdout",
     "output_type": "stream",
     "text": [
      "+-------------------+-----------------+---------------+------------------+---------------+----------------------+---------------------------+----------------------------+-----------------------+--------+----------------------------------------+------------------------------------------------+------------------------------------------+----------------------------------------+------------------------------------------+----------------------------------------+-------------------------------------+-----------------------------------------+------------------------------------------------+------------------------------------------------+------------------------------------------------+-------------------------------------------+----------------------------------------------+---------------------------------------------+------------------------------------------+-------------------------------------------+----------------------------------------+---------------------------------------------+---------------------------------------------+------------------------------------------------+-------------------------------+---------------------------------------------+---------------------------------------------+---------------------------------------------+--------------------------------------------+--------------------------------------------+---------------------------------+-----------------------------------------------+-----------------------------------------------+-----------------------------------------------+---------------------------------------------+----------------------------------------------+---------------------------------------------+-------------------------------------------+------------------------------------------+-------------------------------------------+--------------------------------------------+---------------------------------------------+\n",
      "|Source_Consumer_Key|Division_Code_Key|Region_Code_Key|Affiliate_Code_Key|Market_Code_Key|Transaction_Header_Key|Cfdm_Source_System_Code_Key|Customer_Door_Identifier_Key|Local_Currency_Code_Key|Date_Key|Transaction_Header_Cfdm_Channel_Code_Key|Transaction_Header_Source_Transaction_Identifier|Transaction_Header_Source_Store_Identifier|Transaction_Header_Transaction_Timestamp|Transaction_Header_Pos_Register_Identifier|Transaction_Header_Transaction_Type_Name|Transaction_Header_Consumer_Full_Name|Transaction_Header_Consumer_Email_Address|Transaction_Header_Online_Billing_Line_1_Address|Transaction_Header_Online_Billing_Line_2_Address|Transaction_Header_Online_Billing_Line_3_Address|Transaction_Header_Online_Billing_City_Name|Transaction_Header_Online_Billing_Country_Name|Transaction_Header_Online_Billing_Postal_Code|Transaction_Header_Tourist_Order_Indicator|Transaction_Header_Employee_Order_Indicator|Transaction_Header_Guest_Order_Indicator|Transaction_Header_Consumer_Capture_Indicator|Transaction_Header_Consumer_Mac_Pro_Indicator|Transaction_Header_Loyalty_Transaction_Indicator|Transaction_Header_Total_Amount|Calc_Transaction_Header_Total_Saleable_Amount|Calc_Transaction_Header_Total_Shipping_Amount|Calc_Transaction_Header_Total_Discount_Amount|Calc_Transaction_Header_Total_Returns_Amount|Calc_Transaction_Header_Total_Service_Amount|Transaction_Header_Total_Quantity|Calc_Transaction_Header_Total_Saleable_Quantity|Calc_Transaction_Header_Total_Shipping_Quantity|Calc_Transaction_Header_Total_Discount_Quantity|Calc_Transaction_Header_Total_Return_Quantity|Calc_Transaction_Header_Total_Service_Quantity|Calc_Transaction_Header_Total_Sample_Quantity|Calc_Transaction_Header_Total_Gift_Quantity|Calc_Transaction_Header_Distinct_Sku_Count|Transaction_Header_Record_Created_Timestamp|Transaction_Header_Record_Modified_Timestamp|Transaction_Header_Source_Consumer_Identifier|\n",
      "+-------------------+-----------------+---------------+------------------+---------------+----------------------+---------------------------+----------------------------+-----------------------+--------+----------------------------------------+------------------------------------------------+------------------------------------------+----------------------------------------+------------------------------------------+----------------------------------------+-------------------------------------+-----------------------------------------+------------------------------------------------+------------------------------------------------+------------------------------------------------+-------------------------------------------+----------------------------------------------+---------------------------------------------+------------------------------------------+-------------------------------------------+----------------------------------------+---------------------------------------------+---------------------------------------------+------------------------------------------------+-------------------------------+---------------------------------------------+---------------------------------------------+---------------------------------------------+--------------------------------------------+--------------------------------------------+---------------------------------+-----------------------------------------------+-----------------------------------------------+-----------------------------------------------+---------------------------------------------+----------------------------------------------+---------------------------------------------+-------------------------------------------+------------------------------------------+-------------------------------------------+--------------------------------------------+---------------------------------------------+\n",
      "|          749621471|                1|             10|            886963|              1|                732053|                          1|                           1|                      1|20230705|                                       1|                            47229389-571a-487...|                      47229389-571a-487...|                    2023-05-07 22:37:...|                      47229389-571a-487...|                                  String|                                 NULL|                                     NULL|                                            NULL|                                            NULL|                                            NULL|                                       NULL|                                          NULL|                                         NULL|                                         0|                                          0|                                       0|                                            0|                                            0|                                               0|                             91|                                           91|                                           91|                                           91|                                          91|                                          91|                                4|                                              4|                                              4|                                              4|                                            4|                                             4|                                            4|                                          4|                                         4|                       2023-05-07 22:37:...|                        2023-05-07 22:37:...|                         47229389-571a-487...|\n",
      "|          453778757|                3|             10|            184991|              1|                443144|                          1|                           1|                      1|20220904|                                       1|                            c37459ee-f50b-4a6...|                      c37459ee-f50b-4a6...|                    2022-04-10 19:07:...|                      c37459ee-f50b-4a6...|                                  String|                                 NULL|                                     NULL|                                            NULL|                                            NULL|                                            NULL|                                       NULL|                                          NULL|                                         NULL|                                         0|                                          0|                                       0|                                            0|                                            0|                                               0|                             36|                                           36|                                           36|                                           36|                                          36|                                          36|                                3|                                              3|                                              3|                                              3|                                            3|                                             3|                                            3|                                          3|                                         3|                       2022-04-10 19:07:...|                        2022-04-10 19:07:...|                         c37459ee-f50b-4a6...|\n",
      "|          365341214|               10|             10|            588046|              1|                356779|                          1|                           1|                      1|20211909|                                       1|                            6142ea7d-17be-411...|                      6142ea7d-17be-411...|                    2021-09-20 08:08:...|                      6142ea7d-17be-411...|                                  String|                                 NULL|                                     NULL|                                            NULL|                                            NULL|                                            NULL|                                       NULL|                                          NULL|                                         NULL|                                         1|                                          1|                                       1|                                            1|                                            1|                                               1|                             99|                                           99|                                           99|                                           99|                                          99|                                          99|                                3|                                              3|                                              3|                                              3|                                            3|                                             3|                                            3|                                          3|                                         3|                       2021-09-20 08:08:...|                        2021-09-20 08:08:...|                         6142ea7d-17be-411...|\n",
      "|          298362083|               12|             10|            800039|              1|                291370|                          1|                           1|                      1|20241502|                                       1|                            580d7b71-d8f5-441...|                      580d7b71-d8f5-441...|                    2024-02-15 19:33:...|                      580d7b71-d8f5-441...|                                  String|                                 NULL|                                     NULL|                                            NULL|                                            NULL|                                            NULL|                                       NULL|                                          NULL|                                         NULL|                                         1|                                          1|                                       1|                                            1|                                            1|                                               1|                             13|                                           13|                                           13|                                           13|                                          13|                                          13|                                2|                                              2|                                              2|                                              2|                                            2|                                             2|                                            2|                                          2|                                         2|                       2024-02-15 19:33:...|                        2024-02-15 19:33:...|                         580d7b71-d8f5-441...|\n",
      "|          166944845|               22|             10|            733440|              1|                163033|                          1|                           1|                      1|20220504|                                       1|                            0b1f9163-ce9f-457...|                      0b1f9163-ce9f-457...|                    2022-04-06 18:58:...|                      0b1f9163-ce9f-457...|                                  String|                                 NULL|                                     NULL|                                            NULL|                                            NULL|                                            NULL|                                       NULL|                                          NULL|                                         NULL|                                         1|                                          1|                                       1|                                            1|                                            1|                                               1|                             47|                                           47|                                           47|                                           47|                                          47|                                          47|                                2|                                              2|                                              2|                                              2|                                            2|                                             2|                                            2|                                          2|                                         2|                       2022-04-06 18:58:...|                        2022-04-06 18:58:...|                         0b1f9163-ce9f-457...|\n",
      "|          231191391|               21|             10|            449523|              1|                225773|                          1|                           1|                      1|20211207|                                       1|                            1ff49b78-8946-4e8...|                      1ff49b78-8946-4e8...|                    2021-07-13 14:25:...|                      1ff49b78-8946-4e8...|                                  String|                                 NULL|                                     NULL|                                            NULL|                                            NULL|                                            NULL|                                       NULL|                                          NULL|                                         NULL|                                         1|                                          1|                                       1|                                            1|                                            1|                                               1|                             34|                                           34|                                           34|                                           34|                                          34|                                          34|                                3|                                              3|                                              3|                                              3|                                            3|                                             3|                                            3|                                          3|                                         3|                       2021-07-13 14:25:...|                        2021-07-13 14:25:...|                         1ff49b78-8946-4e8...|\n",
      "|          819795580|               17|             10|            516335|              1|                800582|                          1|                           1|                      1|20211707|                                       1|                            142c3fe8-60e7-411...|                      142c3fe8-60e7-411...|                    2021-07-17 22:49:...|                      142c3fe8-60e7-411...|                                  String|                                 NULL|                                     NULL|                                            NULL|                                            NULL|                                            NULL|                                       NULL|                                          NULL|                                         NULL|                                         0|                                          0|                                       0|                                            0|                                            0|                                               0|                             69|                                           69|                                           69|                                           69|                                          69|                                          69|                                1|                                              1|                                              1|                                              1|                                            1|                                             1|                                            1|                                          1|                                         1|                       2021-07-17 22:49:...|                        2021-07-17 22:49:...|                         142c3fe8-60e7-411...|\n",
      "|          361415647|               12|             10|            754082|              1|                352945|                          1|                           1|                      1|20231710|                                       1|                            a0ee89ae-d453-4d3...|                      a0ee89ae-d453-4d3...|                    2023-10-18 14:15:...|                      a0ee89ae-d453-4d3...|                                  String|                                 NULL|                                     NULL|                                            NULL|                                            NULL|                                            NULL|                                       NULL|                                          NULL|                                         NULL|                                         1|                                          1|                                       1|                                            1|                                            1|                                               1|                             12|                                           12|                                           12|                                           12|                                          12|                                          12|                                1|                                              1|                                              1|                                              1|                                            1|                                             1|                                            1|                                          1|                                         1|                       2023-10-18 14:15:...|                        2023-10-18 14:15:...|                         a0ee89ae-d453-4d3...|\n",
      "|          109747452|               21|             10|            260413|              1|                107176|                          1|                           1|                      1|20232301|                                       1|                            5c941cf0-dc98-42c...|                      5c941cf0-dc98-42c...|                    2023-01-24 11:48:...|                      5c941cf0-dc98-42c...|                                  String|                                 NULL|                                     NULL|                                            NULL|                                            NULL|                                            NULL|                                       NULL|                                          NULL|                                         NULL|                                         1|                                          1|                                       1|                                            1|                                            1|                                               1|                             82|                                           82|                                           82|                                           82|                                          82|                                          82|                                4|                                              4|                                              4|                                              4|                                            4|                                             4|                                            4|                                          4|                                         4|                       2023-01-24 11:48:...|                        2023-01-24 11:48:...|                         5c941cf0-dc98-42c...|\n",
      "|           99585093|               10|             10|            586846|              1|                 97252|                          1|                           1|                      1|20230309|                                       1|                            11ce5dd2-b45e-41f...|                      11ce5dd2-b45e-41f...|                    2023-09-04 08:44:...|                      11ce5dd2-b45e-41f...|                                  String|                                 NULL|                                     NULL|                                            NULL|                                            NULL|                                            NULL|                                       NULL|                                          NULL|                                         NULL|                                         1|                                          1|                                       1|                                            1|                                            1|                                               1|                             74|                                           74|                                           74|                                           74|                                          74|                                          74|                                1|                                              1|                                              1|                                              1|                                            1|                                             1|                                            1|                                          1|                                         1|                       2023-09-04 08:44:...|                        2023-09-04 08:44:...|                         11ce5dd2-b45e-41f...|\n",
      "|          407943840|                1|             10|            809587|              1|                398383|                          1|                           1|                      1|20231006|                                       1|                            c5e7ce8a-3a57-4a8...|                      c5e7ce8a-3a57-4a8...|                    2023-06-11 13:24:...|                      c5e7ce8a-3a57-4a8...|                                  String|                                 NULL|                                     NULL|                                            NULL|                                            NULL|                                            NULL|                                       NULL|                                          NULL|                                         NULL|                                         1|                                          1|                                       1|                                            1|                                            1|                                               1|                              6|                                            6|                                            6|                                            6|                                           6|                                           6|                                3|                                              3|                                              3|                                              3|                                            3|                                             3|                                            3|                                          3|                                         3|                       2023-06-11 13:24:...|                        2023-06-11 13:24:...|                         c5e7ce8a-3a57-4a8...|\n",
      "|          103848422|               21|             10|            317140|              1|                101415|                          1|                           1|                      1|20221011|                                       1|                            daf61a26-146d-4f3...|                      daf61a26-146d-4f3...|                    2022-11-11 12:47:...|                      daf61a26-146d-4f3...|                                  String|                                 NULL|                                     NULL|                                            NULL|                                            NULL|                                            NULL|                                       NULL|                                          NULL|                                         NULL|                                         1|                                          1|                                       1|                                            1|                                            1|                                               1|                             11|                                           11|                                           11|                                           11|                                          11|                                          11|                                3|                                              3|                                              3|                                              3|                                            3|                                             3|                                            3|                                          3|                                         3|                       2022-11-11 12:47:...|                        2022-11-11 12:47:...|                         daf61a26-146d-4f3...|\n",
      "|          385451172|               12|             10|            989387|              1|                376418|                          1|                           1|                      1|20240303|                                       1|                            614ff3d7-19db-4ad...|                      614ff3d7-19db-4ad...|                    2024-03-04 05:45:...|                      614ff3d7-19db-4ad...|                                  String|                                 NULL|                                     NULL|                                            NULL|                                            NULL|                                            NULL|                                       NULL|                                          NULL|                                         NULL|                                         1|                                          1|                                       1|                                            1|                                            1|                                               1|                             49|                                           49|                                           49|                                           49|                                          49|                                          49|                                5|                                              5|                                              5|                                              5|                                            5|                                             5|                                            5|                                          5|                                         5|                       2024-03-04 05:45:...|                        2024-03-04 05:45:...|                         614ff3d7-19db-4ad...|\n",
      "|          909990149|               26|             10|            212090|              1|                888663|                          1|                           1|                      1|20222105|                                       1|                            d58842de-a2bc-472...|                      d58842de-a2bc-472...|                    2022-05-22 17:52:...|                      d58842de-a2bc-472...|                                  String|                                 NULL|                                     NULL|                                            NULL|                                            NULL|                                            NULL|                                       NULL|                                          NULL|                                         NULL|                                         1|                                          1|                                       1|                                            1|                                            1|                                               1|                             83|                                           83|                                           83|                                           83|                                          83|                                          83|                                3|                                              3|                                              3|                                              3|                                            3|                                             3|                                            3|                                          3|                                         3|                       2022-05-22 17:52:...|                        2022-05-22 17:52:...|                         d58842de-a2bc-472...|\n",
      "|          369319645|               17|             10|            319009|              1|                360664|                          1|                           1|                      1|20222811|                                       1|                            5af30553-5ec4-4e0...|                      5af30553-5ec4-4e0...|                    2022-11-28 20:37:...|                      5af30553-5ec4-4e0...|                                  String|                                 NULL|                                     NULL|                                            NULL|                                            NULL|                                            NULL|                                       NULL|                                          NULL|                                         NULL|                                         0|                                          0|                                       0|                                            0|                                            0|                                               0|                             49|                                           49|                                           49|                                           49|                                          49|                                          49|                                1|                                              1|                                              1|                                              1|                                            1|                                             1|                                            1|                                          1|                                         1|                       2022-11-28 20:37:...|                        2022-11-28 20:37:...|                         5af30553-5ec4-4e0...|\n",
      "|          648245889|               11|             10|            483619|              1|                633053|                          1|                           1|                      1|20232809|                                       1|                            b3aa7efe-4458-488...|                      b3aa7efe-4458-488...|                    2023-09-28 18:32:...|                      b3aa7efe-4458-488...|                                  String|                                 NULL|                                     NULL|                                            NULL|                                            NULL|                                            NULL|                                       NULL|                                          NULL|                                         NULL|                                         1|                                          1|                                       1|                                            1|                                            1|                                               1|                             86|                                           86|                                           86|                                           86|                                          86|                                          86|                                4|                                              4|                                              4|                                              4|                                            4|                                             4|                                            4|                                          4|                                         4|                       2023-09-28 18:32:...|                        2023-09-28 18:32:...|                         b3aa7efe-4458-488...|\n",
      "|          284027114|               26|             10|            123148|              1|                277371|                          1|                           1|                      1|20230802|                                       1|                            12476f57-a5e5-45a...|                      12476f57-a5e5-45a...|                    2023-02-09 16:50:...|                      12476f57-a5e5-45a...|                                  String|                                 NULL|                                     NULL|                                            NULL|                                            NULL|                                            NULL|                                       NULL|                                          NULL|                                         NULL|                                         1|                                          1|                                       1|                                            1|                                            1|                                               1|                             78|                                           78|                                           78|                                           78|                                          78|                                          78|                                5|                                              5|                                              5|                                              5|                                            5|                                             5|                                            5|                                          5|                                         5|                       2023-02-09 16:50:...|                        2023-02-09 16:50:...|                         12476f57-a5e5-45a...|\n",
      "|          866647392|               10|             10|            772218|              1|                846336|                          1|                           1|                      1|20230211|                                       1|                            88bd6407-2bcf-4e0...|                      88bd6407-2bcf-4e0...|                    2023-11-03 04:00:...|                      88bd6407-2bcf-4e0...|                                  String|                                 NULL|                                     NULL|                                            NULL|                                            NULL|                                            NULL|                                       NULL|                                          NULL|                                         NULL|                                         0|                                          0|                                       0|                                            0|                                            0|                                               0|                             94|                                           94|                                           94|                                           94|                                          94|                                          94|                                1|                                              1|                                              1|                                              1|                                            1|                                             1|                                            1|                                          1|                                         1|                       2023-11-03 04:00:...|                        2023-11-03 04:00:...|                         88bd6407-2bcf-4e0...|\n",
      "|           46654553|               12|             10|            180857|              1|                 45562|                          1|                           1|                      1|20222512|                                       1|                            7656af72-29d4-4ee...|                      7656af72-29d4-4ee...|                    2022-12-26 14:14:...|                      7656af72-29d4-4ee...|                                  String|                                 NULL|                                     NULL|                                            NULL|                                            NULL|                                            NULL|                                       NULL|                                          NULL|                                         NULL|                                         0|                                          0|                                       0|                                            0|                                            0|                                               0|                             61|                                           61|                                           61|                                           61|                                          61|                                          61|                                4|                                              4|                                              4|                                              4|                                            4|                                             4|                                            4|                                          4|                                         4|                       2022-12-26 14:14:...|                        2022-12-26 14:14:...|                         7656af72-29d4-4ee...|\n",
      "|          783543541|               26|             10|            493745|              1|                765180|                          1|                           1|                      1|20231405|                                       1|                            ece66fa2-fd51-46e...|                      ece66fa2-fd51-46e...|                    2023-05-14 23:46:...|                      ece66fa2-fd51-46e...|                                  String|                                 NULL|                                     NULL|                                            NULL|                                            NULL|                                            NULL|                                       NULL|                                          NULL|                                         NULL|                                         0|                                          0|                                       0|                                            0|                                            0|                                               0|                             83|                                           83|                                           83|                                           83|                                          83|                                          83|                                1|                                              1|                                              1|                                              1|                                            1|                                             1|                                            1|                                          1|                                         1|                       2023-05-14 23:46:...|                        2023-05-14 23:46:...|                         ece66fa2-fd51-46e...|\n",
      "+-------------------+-----------------+---------------+------------------+---------------+----------------------+---------------------------+----------------------------+-----------------------+--------+----------------------------------------+------------------------------------------------+------------------------------------------+----------------------------------------+------------------------------------------+----------------------------------------+-------------------------------------+-----------------------------------------+------------------------------------------------+------------------------------------------------+------------------------------------------------+-------------------------------------------+----------------------------------------------+---------------------------------------------+------------------------------------------+-------------------------------------------+----------------------------------------+---------------------------------------------+---------------------------------------------+------------------------------------------------+-------------------------------+---------------------------------------------+---------------------------------------------+---------------------------------------------+--------------------------------------------+--------------------------------------------+---------------------------------+-----------------------------------------------+-----------------------------------------------+-----------------------------------------------+---------------------------------------------+----------------------------------------------+---------------------------------------------+-------------------------------------------+------------------------------------------+-------------------------------------------+--------------------------------------------+---------------------------------------------+\n",
      "only showing top 20 rows\n",
      "\n"
     ]
    }
   ],
   "source": [
    "Faker.seed(42)\n",
    "random.seed(42)\n",
    "\n",
    "consumers = spark.read.table('master_registry').select('Source_Consumer_Key', 'Division_Code_Key','Region_Code_Key','Affiliate_Code_Key','Market_Code_Key')\n",
    "# consumers.count()\n",
    "'''\n",
    "Transaction_Header_Key\tBIGINT\n",
    "Division_Code_Key\tBIGINT\n",
    "Region_Code_Key\tBIGINT\n",
    "Affiliate_Code_Key\tBIGINT\n",
    "Market_Code_Key\tBIGINT\n",
    "Source_Consumer_Key\tBIGINT\n",
    "Cfdm_Source_System_Code_Key\tBIGINT\n",
    "Customer_Door_Identifier_Key\tBIGINT\n",
    "Local_Currency_Code_Key\tBIGINT\n",
    "Date_Key\tINT\n",
    "Transaction_Header_Cfdm_Channel_Code_Key\tBIGINT\n",
    "Transaction_Header_Source_Transaction_Identifier\tSTRING\n",
    "Transaction_Header_Source_Store_Identifier\tSTRING\n",
    "Transaction_Header_Transaction_Timestamp\tTIMESTAMP\n",
    "Transaction_Header_Pos_Register_Identifier\tSTRING\n",
    "Transaction_Header_Transaction_Type_Name\tSTRING\n",
    "Transaction_Header_Consumer_Full_Name\tSTRING\n",
    "Transaction_Header_Consumer_Email_Address\tSTRING\n",
    "Transaction_Header_Online_Billing_Line_1_Address\tSTRING\n",
    "Transaction_Header_Online_Billing_Line_2_Address\tSTRING\n",
    "Transaction_Header_Online_Billing_Line_3_Address\tSTRING\n",
    "Transaction_Header_Online_Billing_City_Name\tSTRING\n",
    "Transaction_Header_Online_Billing_Country_Name\tSTRING\n",
    "Transaction_Header_Online_Billing_Postal_Code\tSTRING\n",
    "Transaction_Header_Tourist_Order_Indicator\tTINYINT\n",
    "Transaction_Header_Employee_Order_Indicator\tTINYINT\n",
    "Transaction_Header_Guest_Order_Indicator\tTINYINT\n",
    "Transaction_Header_Consumer_Capture_Indicator\tTINYINT\n",
    "Transaction_Header_Consumer_Mac_Pro_Indicator\tTINYINT\n",
    "Transaction_Header_Loyalty_Transaction_Indicator\tTINYINT\n",
    "Transaction_Header_Total_Amount\tDECIMAL(142)\n",
    "Calc_Transaction_Header_Total_Saleable_Amount\tDECIMAL(142)\n",
    "Calc_Transaction_Header_Total_Shipping_Amount\tDECIMAL(142)\n",
    "Calc_Transaction_Header_Total_Discount_Amount\tDECIMAL(142)\n",
    "Calc_Transaction_Header_Total_Returns_Amount\tDECIMAL(142)\n",
    "Calc_Transaction_Header_Total_Service_Amount\tDECIMAL(142)\n",
    "Transaction_Header_Total_Quantity\tINT\n",
    "Calc_Transaction_Header_Total_Saleable_Quantity\tINT\n",
    "Calc_Transaction_Header_Total_Shipping_Quantity\tINT\n",
    "Calc_Transaction_Header_Total_Discount_Quantity\tINT\n",
    "Calc_Transaction_Header_Total_Return_Quantity\tINT\n",
    "Calc_Transaction_Header_Total_Service_Quantity\tINT\n",
    "Calc_Transaction_Header_Total_Sample_Quantity\tINT\n",
    "Calc_Transaction_Header_Total_Gift_Quantity\tINT\n",
    "Calc_Transaction_Header_Distinct_Sku_Count\tINT\n",
    "Transaction_Header_Record_Created_Timestamp\tTIMESTAMP\n",
    "Transaction_Header_Record_Modified_Timestamp\tTIMESTAMP\n",
    "Transaction_Header_Source_Consumer_Identifier\tSTRING\n",
    "'''\n",
    "tmp_df = (consumers\n",
    "          .withColumn('Transaction_Header_Key', f_intUnique(F.lit(1),F.lit(1000000)))  #\tBIGINT\n",
    "          .withColumn('Cfdm_Source_System_Code_Key', F.lit(1)) #\tBIGINT\n",
    "          .withColumn('Customer_Door_Identifier_Key', F.lit(1))  #\tBIGINT\n",
    "          .withColumn('Local_Currency_Code_Key', F.lit(1)) #\tBIGINT\n",
    "          .withColumn('Date_Key', F.date_format(f_date(), 'yyyyddMM').cast('integer'))  #\tINT\n",
    "          .withColumn('Transaction_Header_Cfdm_Channel_Code_Key', F.lit(1))  #\tBIGINT\n",
    "          .withColumn('Transaction_Header_Source_Transaction_Identifier', f_GUID())  #\tSTRING\n",
    "          .withColumn('Transaction_Header_Source_Store_Identifier', f_GUID())  #\tSTRING\n",
    "          .withColumn('Transaction_Header_Transaction_Timestamp', F.to_timestamp(f_timestamp()))  #\tTIMESTAMP\n",
    "          .withColumn('Transaction_Header_Pos_Register_Identifier', f_GUID())  #\tSTRING\n",
    "          .withColumn('Transaction_Header_Transaction_Type_Name', F.lit('String'))  #\tSTRING\n",
    "          .withColumn('Transaction_Header_Consumer_Full_Name', F.lit(None)) #\tSTRING\n",
    "          .withColumn('Transaction_Header_Consumer_Email_Address', F.lit(None)) #\tSTRING\n",
    "          .withColumn('Transaction_Header_Online_Billing_Line_1_Address', F.lit(None))  #\tSTRING\n",
    "          .withColumn('Transaction_Header_Online_Billing_Line_2_Address', F.lit(None))  #\tSTRING\n",
    "          .withColumn('Transaction_Header_Online_Billing_Line_3_Address', F.lit(None))  #\tSTRING\n",
    "          .withColumn('Transaction_Header_Online_Billing_City_Name', F.lit(None)) #\tSTRING\n",
    "          .withColumn('Transaction_Header_Online_Billing_Country_Name', F.lit(None))  #\tSTRING\n",
    "          .withColumn('Transaction_Header_Online_Billing_Postal_Code', F.lit(None)) #\tSTRING\n",
    "          .withColumn('Transaction_Header_Tourist_Order_Indicator', f_bool().cast('integer'))  #\tTINYINT\n",
    "          .withColumn('Transaction_Header_Employee_Order_Indicator', f_bool().cast('integer')) #\tTINYINT\n",
    "          .withColumn('Transaction_Header_Guest_Order_Indicator', f_bool().cast('integer'))  #\tTINYINT\n",
    "          .withColumn('Transaction_Header_Consumer_Capture_Indicator', f_bool().cast('integer')) #\tTINYINT\n",
    "          .withColumn('Transaction_Header_Consumer_Mac_Pro_Indicator', f_bool().cast('integer')) #\tTINYINT\n",
    "          .withColumn('Transaction_Header_Loyalty_Transaction_Indicator', f_bool().cast('integer'))  #\tTINYINT\n",
    "          .withColumn('Transaction_Header_Total_Amount', f_decimal(F.lit(1),F.lit(100)))  # DECIMAL(14,2)\n",
    "          .withColumn('Calc_Transaction_Header_Total_Saleable_Amount', f_decimal(F.lit(1),F.lit(100)))  # DECIMAL(14,2)\n",
    "          .withColumn('Calc_Transaction_Header_Total_Shipping_Amount', f_decimal(F.lit(1),F.lit(100)))  # DECIMAL(14,2)\n",
    "          .withColumn('Calc_Transaction_Header_Total_Discount_Amount', f_decimal(F.lit(1),F.lit(100)))  # DECIMAL(14,2)\n",
    "          .withColumn('Calc_Transaction_Header_Total_Returns_Amount', f_decimal(F.lit(1),F.lit(100)))  # DECIMAL(14,2)\n",
    "          .withColumn('Calc_Transaction_Header_Total_Service_Amount', f_decimal(F.lit(1),F.lit(100)))  # DECIMAL(14,2)\n",
    "          .withColumn('Transaction_Header_Total_Quantity', f_int(F.lit(1),F.lit(5))) #\tINT\n",
    "          .withColumn('Calc_Transaction_Header_Total_Saleable_Quantity', f_int(F.lit(1),F.lit(5))) #\tINT\n",
    "          .withColumn('Calc_Transaction_Header_Total_Shipping_Quantity', f_int(F.lit(1),F.lit(5))) #\tINT\n",
    "          .withColumn('Calc_Transaction_Header_Total_Discount_Quantity', f_int(F.lit(1),F.lit(5))) #\tINT\n",
    "          .withColumn('Calc_Transaction_Header_Total_Return_Quantity', f_int(F.lit(1),F.lit(5))) #\tINT\n",
    "          .withColumn('Calc_Transaction_Header_Total_Service_Quantity', f_int(F.lit(1),F.lit(5)))  #\tINT\n",
    "          .withColumn('Calc_Transaction_Header_Total_Sample_Quantity', f_int(F.lit(1),F.lit(5))) #\tINT\n",
    "          .withColumn('Calc_Transaction_Header_Total_Gift_Quantity', f_int(F.lit(1),F.lit(5))) #\tINT\n",
    "          .withColumn('Calc_Transaction_Header_Distinct_Sku_Count', f_int(F.lit(1),F.lit(5)))  #\tINT\n",
    "          .withColumn('Transaction_Header_Record_Created_Timestamp', F.to_timestamp(f_timestamp())) #\tTIMESTAMP\n",
    "          .withColumn('Transaction_Header_Record_Modified_Timestamp', F.to_timestamp(f_timestamp()))  #\tTIMESTAMP\n",
    "          .withColumn('Transaction_Header_Source_Consumer_Identifier', f_GUID()) #\tSTRING\n",
    ")\n",
    "tmp_df.show()\n"
   ]
  },
  {
   "cell_type": "code",
   "execution_count": 60,
   "metadata": {},
   "outputs": [
    {
     "name": "stderr",
     "output_type": "stream",
     "text": [
      "24/04/02 16:18:14 WARN ResolveSessionCatalog: A Hive serde table will be created as there is no table provider specified. You can set spark.sql.legacy.createHiveTableByDefault to false so that native data source table will be created instead.\n",
      "24/04/02 16:18:14 WARN HiveMetaStore: Location: file:/workspaces/devcontainer-universal/spark-warehouse/master_registry specified for non-external table:master_registry\n"
     ]
    },
    {
     "data": {
      "text/plain": [
       "DataFrame[]"
      ]
     },
     "execution_count": 60,
     "metadata": {},
     "output_type": "execute_result"
    }
   ],
   "source": [
    "spark.sql('drop table if exists master_registry;')\n",
    "          \n",
    "spark.sql('''\n",
    "CREATE TABLE master_registry (\n",
    "  Consumer_Master_Registry_Key BIGINT NOT NULL,\n",
    "  Region_Code_Key BIGINT,\n",
    "  Affiliate_Code_Key BIGINT,\n",
    "  Market_Code_Key BIGINT,\n",
    "  Division_Code_Key BIGINT,\n",
    "  Source_Consumer_Key BIGINT NOT NULL,\n",
    "  Consumer_Master_Registry_Record_Valid_From_Timestamp TIMESTAMP NOT NULL,\n",
    "  Consumer_Master_Level_Code STRING NOT NULL,\n",
    "  Consumer_Master_Registry_Record_Valid_To_Timestamp TIMESTAMP NOT NULL,\n",
    "  Consumer_Master_Registry_Global_Unique_Identifier STRING NOT NULL,\n",
    "  Consumer_Master_Registry_Current_Record_Indicator TINYINT NOT NULL,\n",
    "  Consumer_Master_Registry_Record_Created_Timestamp TIMESTAMP NOT NULL,\n",
    "  Consumer_Master_Registry_Record_Modified_Timestamp TIMESTAMP NOT NULL);\n",
    "''')"
   ]
  },
  {
   "cell_type": "code",
   "execution_count": 111,
   "metadata": {},
   "outputs": [
    {
     "name": "stdout",
     "output_type": "stream",
     "text": [
      "+------------+-------------------+\n",
      "|Consumer_Key|Source_Consumer_Key|\n",
      "+------------+-------------------+\n",
      "+------------+-------------------+\n",
      "\n"
     ]
    }
   ],
   "source": [
    "spark.sql('select c.Consumer_Key, m.Source_Consumer_Key from consumer_dimension c inner join master_registry m on m.Consumer_Master_Registry_Global_Unique_Identifier = c.Consumer_Global_Unique_Identifier ').show()"
   ]
  },
  {
   "cell_type": "code",
   "execution_count": 112,
   "metadata": {},
   "outputs": [
    {
     "name": "stdout",
     "output_type": "stream",
     "text": [
      "+----------------------------+---------------+------------------+---------------+-----------------+-------------------+----------------------------------------------------+--------------------------+--------------------------------------------------+-------------------------------------------------+-------------------------------------------------+-------------------------------------------------+--------------------------------------------------+\n",
      "|Consumer_Master_Registry_Key|Region_Code_Key|Affiliate_Code_Key|Market_Code_Key|Division_Code_Key|Source_Consumer_Key|Consumer_Master_Registry_Record_Valid_From_Timestamp|Consumer_Master_Level_Code|Consumer_Master_Registry_Record_Valid_To_Timestamp|Consumer_Master_Registry_Global_Unique_Identifier|Consumer_Master_Registry_Current_Record_Indicator|Consumer_Master_Registry_Record_Created_Timestamp|Consumer_Master_Registry_Record_Modified_Timestamp|\n",
      "+----------------------------+---------------+------------------+---------------+-----------------+-------------------+----------------------------------------------------+--------------------------+--------------------------------------------------+-------------------------------------------------+-------------------------------------------------+-------------------------------------------------+--------------------------------------------------+\n",
      "|                      732053|             10|            886963|              1|                1|          749621471|                                2023-05-07 22:24:...|      47229389-571a-487...|                              2026-05-07 15:41:...|                             47229389-571a-487...|                                                1|                             2023-05-07 22:24:...|                              2023-05-07 22:24:...|\n",
      "|                      443144|             10|            184991|              1|                3|          453778757|                                2022-04-10 18:54:...|      c37459ee-f50b-4a6...|                              2025-04-10 12:11:...|                             c37459ee-f50b-4a6...|                                                1|                             2022-04-10 18:54:...|                              2022-04-10 18:54:...|\n",
      "|                      356779|             10|            588046|              1|               10|          365341214|                                2021-09-20 07:56:...|      6142ea7d-17be-411...|                              2024-09-20 01:12:...|                             6142ea7d-17be-411...|                                                1|                             2021-09-20 07:56:...|                              2021-09-20 07:56:...|\n",
      "|                      291370|             10|            800039|              1|               12|          298362083|                                2024-02-15 19:20:...|      580d7b71-d8f5-441...|                              2027-02-15 12:37:...|                             580d7b71-d8f5-441...|                                                1|                             2024-02-15 19:20:...|                              2024-02-15 19:20:...|\n",
      "|                      163033|             10|            733440|              1|               22|          166944845|                                2022-04-06 18:46:...|      0b1f9163-ce9f-457...|                              2025-04-06 12:02:...|                             0b1f9163-ce9f-457...|                                                1|                             2022-04-06 18:46:...|                              2022-04-06 18:46:...|\n",
      "|                      225773|             10|            449523|              1|               21|          231191391|                                2021-07-13 14:12:...|      1ff49b78-8946-4e8...|                              2024-07-13 07:29:...|                             1ff49b78-8946-4e8...|                                                1|                             2021-07-13 14:12:...|                              2021-07-13 14:12:...|\n",
      "|                      800582|             10|            516335|              1|               17|          819795580|                                2021-07-17 22:37:...|      142c3fe8-60e7-411...|                              2024-07-17 15:54:...|                             142c3fe8-60e7-411...|                                                1|                             2021-07-17 22:37:...|                              2021-07-17 22:37:...|\n",
      "|                      352945|             10|            754082|              1|               12|          361415647|                                2023-10-18 14:02:...|      a0ee89ae-d453-4d3...|                              2026-10-18 07:19:...|                             a0ee89ae-d453-4d3...|                                                1|                             2023-10-18 14:02:...|                              2023-10-18 14:02:...|\n",
      "|                      107176|             10|            260413|              1|               21|          109747452|                                2023-01-24 11:35:...|      5c941cf0-dc98-42c...|                              2026-01-24 04:52:...|                             5c941cf0-dc98-42c...|                                                1|                             2023-01-24 11:35:...|                              2023-01-24 11:35:...|\n",
      "|                       97252|             10|            586846|              1|               10|           99585093|                                2023-09-04 08:31:...|      11ce5dd2-b45e-41f...|                              2026-09-04 01:48:...|                             11ce5dd2-b45e-41f...|                                                1|                             2023-09-04 08:31:...|                              2023-09-04 08:31:...|\n",
      "|                      398383|             10|            809587|              1|                1|          407943840|                                2023-06-11 13:12:...|      c5e7ce8a-3a57-4a8...|                              2026-06-11 06:29:...|                             c5e7ce8a-3a57-4a8...|                                                1|                             2023-06-11 13:12:...|                              2023-06-11 13:12:...|\n",
      "|                      101415|             10|            317140|              1|               21|          103848422|                                2022-11-11 12:35:...|      daf61a26-146d-4f3...|                              2025-11-11 05:52:...|                             daf61a26-146d-4f3...|                                                1|                             2022-11-11 12:35:...|                              2022-11-11 12:35:...|\n",
      "|                      376418|             10|            989387|              1|               12|          385451172|                                2024-03-04 05:32:...|      614ff3d7-19db-4ad...|                              2027-03-04 22:49:...|                             614ff3d7-19db-4ad...|                                                1|                             2024-03-04 05:32:...|                              2024-03-04 05:32:...|\n",
      "|                      888663|             10|            212090|              1|               26|          909990149|                                2022-05-22 17:40:...|      d58842de-a2bc-472...|                              2025-05-22 10:57:...|                             d58842de-a2bc-472...|                                                1|                             2022-05-22 17:40:...|                              2022-05-22 17:40:...|\n",
      "|                      360664|             10|            319009|              1|               17|          369319645|                                2022-11-28 20:24:...|      5af30553-5ec4-4e0...|                              2025-11-28 13:41:...|                             5af30553-5ec4-4e0...|                                                1|                             2022-11-28 20:24:...|                              2022-11-28 20:24:...|\n",
      "|                      633053|             10|            483619|              1|               11|          648245889|                                2023-09-28 18:20:...|      b3aa7efe-4458-488...|                              2026-09-28 11:36:...|                             b3aa7efe-4458-488...|                                                1|                             2023-09-28 18:20:...|                              2023-09-28 18:20:...|\n",
      "|                      277371|             10|            123148|              1|               26|          284027114|                                2023-02-09 16:38:...|      12476f57-a5e5-45a...|                              2026-02-09 09:54:...|                             12476f57-a5e5-45a...|                                                1|                             2023-02-09 16:38:...|                              2023-02-09 16:38:...|\n",
      "|                      846336|             10|            772218|              1|               10|          866647392|                                2023-11-03 03:47:...|      88bd6407-2bcf-4e0...|                              2026-11-02 21:04:...|                             88bd6407-2bcf-4e0...|                                                1|                             2023-11-03 03:47:...|                              2023-11-03 03:47:...|\n",
      "|                       45562|             10|            180857|              1|               12|           46654553|                                2022-12-26 14:02:...|      7656af72-29d4-4ee...|                              2025-12-26 07:19:...|                             7656af72-29d4-4ee...|                                                1|                             2022-12-26 14:02:...|                              2022-12-26 14:02:...|\n",
      "|                      765180|             10|            493745|              1|               26|          783543541|                                2023-05-14 23:34:...|      ece66fa2-fd51-46e...|                              2026-05-14 16:51:...|                             ece66fa2-fd51-46e...|                                                1|                             2023-05-14 23:34:...|                              2023-05-14 23:34:...|\n",
      "+----------------------------+---------------+------------------+---------------+-----------------+-------------------+----------------------------------------------------+--------------------------+--------------------------------------------------+-------------------------------------------------+-------------------------------------------------+-------------------------------------------------+--------------------------------------------------+\n",
      "only showing top 20 rows\n",
      "\n"
     ]
    }
   ],
   "source": [
    "cons = spark.sql('select * from master_registry').show()\n",
    "# cons.write.options(header=True,delimiter=',').csv('src/master_reg')\n",
    "# spark.sql('select * from consumer_dimension').count()"
   ]
  },
  {
   "cell_type": "code",
   "execution_count": 92,
   "metadata": {},
   "outputs": [
    {
     "data": {
      "text/plain": [
       "4000"
      ]
     },
     "execution_count": 92,
     "metadata": {},
     "output_type": "execute_result"
    }
   ],
   "source": [
    "# spark.catalog.listTables()\n",
    "tmp_df.select(\n",
    "    'Transaction_Header_Key',\n",
    "    'Division_Code_Key',\n",
    "    'Region_Code_Key',\n",
    "    'Affiliate_Code_Key',\n",
    "    'Market_Code_Key',\n",
    "    'Source_Consumer_Key',\n",
    "    'Cfdm_Source_System_Code_Key',\n",
    "    'Customer_Door_Identifier_Key',\n",
    "    'Local_Currency_Code_Key',\n",
    "    'Date_Key',\n",
    "    'Transaction_Header_Cfdm_Channel_Code_Key',\n",
    "    'Transaction_Header_Source_Transaction_Identifier',\n",
    "    'Transaction_Header_Source_Store_Identifier',\n",
    "    'Transaction_Header_Transaction_Timestamp',\n",
    "    'Transaction_Header_Pos_Register_Identifier',\n",
    "    'Transaction_Header_Transaction_Type_Name',\n",
    "    'Transaction_Header_Consumer_Full_Name',\n",
    "    'Transaction_Header_Consumer_Email_Address',\n",
    "    'Transaction_Header_Online_Billing_Line_1_Address',\n",
    "    'Transaction_Header_Online_Billing_Line_2_Address',\n",
    "    'Transaction_Header_Online_Billing_Line_3_Address',\n",
    "    'Transaction_Header_Online_Billing_City_Name',\n",
    "    'Transaction_Header_Online_Billing_Country_Name',\n",
    "    'Transaction_Header_Online_Billing_Postal_Code',\n",
    "    'Transaction_Header_Tourist_Order_Indicator',\n",
    "    'Transaction_Header_Employee_Order_Indicator',\n",
    "    'Transaction_Header_Guest_Order_Indicator',\n",
    "    'Transaction_Header_Consumer_Capture_Indicator',\n",
    "    'Transaction_Header_Consumer_Mac_Pro_Indicator',\n",
    "    'Transaction_Header_Loyalty_Transaction_Indicator',\n",
    "    'Transaction_Header_Total_Amount',\n",
    "    'Calc_Transaction_Header_Total_Saleable_Amount',\n",
    "    'Calc_Transaction_Header_Total_Shipping_Amount',\n",
    "    'Calc_Transaction_Header_Total_Discount_Amount',\n",
    "    'Calc_Transaction_Header_Total_Returns_Amount',\n",
    "    'Calc_Transaction_Header_Total_Service_Amount',\n",
    "    'Transaction_Header_Total_Quantity',\n",
    "    'Calc_Transaction_Header_Total_Saleable_Quantity',\n",
    "    'Calc_Transaction_Header_Total_Shipping_Quantity',\n",
    "    'Calc_Transaction_Header_Total_Discount_Quantity',\n",
    "    'Calc_Transaction_Header_Total_Return_Quantity',\n",
    "    'Calc_Transaction_Header_Total_Service_Quantity',\n",
    "    'Calc_Transaction_Header_Total_Sample_Quantity',\n",
    "    'Calc_Transaction_Header_Total_Gift_Quantity',\n",
    "    'Calc_Transaction_Header_Distinct_Sku_Count',\n",
    "    'Transaction_Header_Record_Created_Timestamp',\n",
    "    'Transaction_Header_Record_Modified_Timestamp',\n",
    "    'Transaction_Header_Source_Consumer_Identifier'\n",
    ").write.insertInto('transaction_header', overwrite=False)\n",
    "spark.sql('select * from transaction_header').count()"
   ]
  },
  {
   "cell_type": "code",
   "execution_count": 94,
   "metadata": {},
   "outputs": [
    {
     "name": "stdout",
     "output_type": "stream",
     "text": [
      "+-------------------+-------------------------------------------------+\n",
      "|Source_Consumer_Key|Consumer_Master_Registry_Global_Unique_Identifier|\n",
      "+-------------------+-------------------------------------------------+\n",
      "|          749621471|                             47229389-571a-487...|\n",
      "|          453778757|                             c37459ee-f50b-4a6...|\n",
      "|          365341214|                             6142ea7d-17be-411...|\n",
      "|          298362083|                             580d7b71-d8f5-441...|\n",
      "|          166944845|                             0b1f9163-ce9f-457...|\n",
      "|          231191391|                             1ff49b78-8946-4e8...|\n",
      "|          819795580|                             142c3fe8-60e7-411...|\n",
      "|          361415647|                             a0ee89ae-d453-4d3...|\n",
      "|          109747452|                             5c941cf0-dc98-42c...|\n",
      "|           99585093|                             11ce5dd2-b45e-41f...|\n",
      "|          407943840|                             c5e7ce8a-3a57-4a8...|\n",
      "|          103848422|                             daf61a26-146d-4f3...|\n",
      "|          385451172|                             614ff3d7-19db-4ad...|\n",
      "|          909990149|                             d58842de-a2bc-472...|\n",
      "|          369319645|                             5af30553-5ec4-4e0...|\n",
      "|          648245889|                             b3aa7efe-4458-488...|\n",
      "|          284027114|                             12476f57-a5e5-45a...|\n",
      "|          866647392|                             88bd6407-2bcf-4e0...|\n",
      "|           46654553|                             7656af72-29d4-4ee...|\n",
      "|          783543541|                             ece66fa2-fd51-46e...|\n",
      "+-------------------+-------------------------------------------------+\n",
      "only showing top 20 rows\n",
      "\n"
     ]
    }
   ],
   "source": [
    "groupBy_columns = ['Division_Code_Key','Region_Code_Key','Affiliate_Code_Key','Market_Code_Key']\n",
    "\n",
    "# Total Buyers, will join it to Consumer Dimention on Consumer Master Reg GUID\n",
    "trans_head = spark.read.table('transaction_header').select('Source_Consumer_Key')\n",
    "master_reg = spark.read.table('master_registry').select('Source_Consumer_Key', 'Consumer_Master_Registry_Global_Unique_Identifier')\n",
    "total_buyers = (\n",
    "    master_reg\n",
    "    .join(trans_head, master_reg.Source_Consumer_Key == trans_head.Source_Consumer_Key, 'left')\n",
    ")\n",
    "master_reg.show()"
   ]
  },
  {
   "cell_type": "code",
   "execution_count": null,
   "metadata": {},
   "outputs": [],
   "source": [
    "# Lifecycle\n",
    "lifecycle = (\n",
    "    spark.read.table('consumer_lifecycle')\n",
    "    .select('Consumer_Key','Consumer_Lifecycle_Status_Code_Key')\n",
    "    .where(F.col('Consumer_Lifecycle_Status_Current_Record_Indicator') == 1)\n",
    ")"
   ]
  },
  {
   "cell_type": "code",
   "execution_count": 32,
   "metadata": {},
   "outputs": [
    {
     "name": "stdout",
     "output_type": "stream",
     "text": [
      "+------------+--------------------------------------+\n",
      "|Consumer_Key|Consumer_Loyalty_Membership_Identifier|\n",
      "+------------+--------------------------------------+\n",
      "|      116739|                  23b8c1e9-3924-46d...|\n",
      "|       26225|                  bd9c66b3-ad3c-4d6...|\n",
      "|      288389|                  17fc695a-07a0-4a6...|\n",
      "|      256787|                  9a1de644-815e-46d...|\n",
      "|      234053|                  b74d0fb1-32e7-462...|\n",
      "|      146316|                  6b65a6a4-8b81-48f...|\n",
      "|      107473|                  c241330b-01a9-471...|\n",
      "|      571858|                  5be6128e-18c2-479...|\n",
      "|      442417|                  ec1b8ca1-f91e-4d4...|\n",
      "|       33326|                  4b0dbb41-8d52-48f...|\n",
      "|       31244|                  e2acf72f-9e57-4f7...|\n",
      "|       98246|                  3139d32c-93cd-49b...|\n",
      "|      229258|                  a9488d99-0bbb-459...|\n",
      "|      631262|                  7412b293-4729-473...|\n",
      "|      588508|                  ab9099a4-35a2-40a...|\n",
      "|      439898|                  5304317f-af42-412...|\n",
      "|      617889|                  10f1bc81-448a-4a9...|\n",
      "|      291704|                  9132b63e-f162-47e...|\n",
      "|      911527|                  e27a984d-6548-41d...|\n",
      "|      844962|                  bf3c4c06-4343-48b...|\n",
      "+------------+--------------------------------------+\n",
      "only showing top 20 rows\n",
      "\n"
     ]
    }
   ],
   "source": [
    "# Loyalty\n",
    "loyalty = spark.read.table('consumer_loyalty').select('Consumer_Key','Consumer_Loyalty_Membership_Identifier').filter(F.col('Consumer_Loyalty_Active_Indicator') == 1)\n",
    "loyalty.show()"
   ]
  },
  {
   "cell_type": "code",
   "execution_count": 74,
   "metadata": {},
   "outputs": [
    {
     "name": "stdout",
     "output_type": "stream",
     "text": [
      "+------------+-----------------+---------------+------------------+---------------+-------------------------------------------+---------------------------------------+------------------------------------------------+-----------------------------------------+\n",
      "|Consumer_Key|Division_Code_Key|Region_Code_Key|Affiliate_Code_Key|Market_Code_Key|Consumer_Phone_SMS_Opt_In_Opt_Out_Indicator|Consumer_Email_Opt_In_Opt_Out_Indicator|Consumer_Address_Postal_Opt_In_Opt_Out_Indicator|Consumer_Address_Current_Record_Indicator|\n",
      "+------------+-----------------+---------------+------------------+---------------+-------------------------------------------+---------------------------------------+------------------------------------------------+-----------------------------------------+\n",
      "|        1701|                1|             10|            886963|              1|                                          0|                                   NULL|                                            NULL|                                     NULL|\n",
      "|       23735|                3|             10|            184991|              1|                                          1|                                   NULL|                                            NULL|                                     NULL|\n",
      "|       35873|               10|             10|            588046|              1|                                       NULL|                                      0|                                            NULL|                                     NULL|\n",
      "|       43076|               12|             10|            800039|              1|                                       NULL|                                      1|                                            NULL|                                     NULL|\n",
      "|       43219|               22|             10|            733440|              1|                                       NULL|                                   NULL|                                            NULL|                                     NULL|\n",
      "|       48349|               21|             10|            449523|              1|                                          1|                                   NULL|                                            NULL|                                     NULL|\n",
      "|       50710|               17|             10|            516335|              1|                                       NULL|                                   NULL|                                            NULL|                                     NULL|\n",
      "|       52774|               12|             10|            754082|              1|                                       NULL|                                   NULL|                                            NULL|                                     NULL|\n",
      "|       71603|               21|             10|            260413|              1|                                       NULL|                                   NULL|                                            NULL|                                     NULL|\n",
      "|       79415|               10|             10|            586846|              1|                                          0|                                   NULL|                                            NULL|                                     NULL|\n",
      "|       79470|                1|             10|            809587|              1|                                          1|                                   NULL|                                            NULL|                                     NULL|\n",
      "|       81071|               21|             10|            317140|              1|                                       NULL|                                   NULL|                                            NULL|                                     NULL|\n",
      "|      101757|               12|             10|            989387|              1|                                       NULL|                                   NULL|                                            NULL|                                     NULL|\n",
      "|      103119|               26|             10|            212090|              1|                                          1|                                   NULL|                                            NULL|                                     NULL|\n",
      "|      109751|               17|             10|            319009|              1|                                       NULL|                                      0|                                            NULL|                                     NULL|\n",
      "|      120461|               11|             10|            483619|              1|                                       NULL|                                   NULL|                                            NULL|                                     NULL|\n",
      "|      127543|               26|             10|            123148|              1|                                          1|                                   NULL|                                            NULL|                                     NULL|\n",
      "|      131637|               10|             10|            772218|              1|                                       NULL|                                      1|                                            NULL|                                     NULL|\n",
      "|      133033|               12|             10|            180857|              1|                                       NULL|                                   NULL|                                            NULL|                                     NULL|\n",
      "|      139259|               26|             10|            493745|              1|                                          1|                                   NULL|                                            NULL|                                     NULL|\n",
      "+------------+-----------------+---------------+------------------+---------------+-------------------------------------------+---------------------------------------+------------------------------------------------+-----------------------------------------+\n",
      "only showing top 20 rows\n",
      "\n"
     ]
    }
   ],
   "source": [
    "# Contactables\n",
    "phone = spark.read.table('consumer_phone').select('Consumer_Key','Consumer_Phone_SMS_Opt_In_Opt_Out_Indicator').where(F.col('Consumer_Phone_Current_Record_Indicator') == 1)\n",
    "email = spark.read.table('consumer_email').select('Consumer_Key','Consumer_Email_Opt_In_Opt_Out_Indicator').where(F.col('Consumer_Email_Current_Record_Indicator') == 1)\n",
    "address = spark.read.table('consumer_address').select('Consumer_Key','Consumer_Address_Postal_Opt_In_Opt_Out_Indicator','Consumer_Address_Current_Record_Indicator').where(F.col('Consumer_Address_Current_Record_Indicator')==1)\n",
    "consumers = spark.read.table('consumer_dimension').select('Consumer_Key', *groupBy_columns)\n",
    "contactable = (consumers\n",
    "               .join(phone, consumers.Consumer_Key == phone.Consumer_Key, 'left').drop(phone.Consumer_Key)\n",
    "               .join(email, consumers.Consumer_Key == email.Consumer_Key, 'left').drop(email.Consumer_Key)\n",
    "               .join(address, consumers.Consumer_Key == address.Consumer_Key, 'left').drop(address.Consumer_Key)\n",
    ")\n",
    "contactable.show()\n"
   ]
  },
  {
   "cell_type": "code",
   "execution_count": null,
   "metadata": {},
   "outputs": [],
   "source": []
  }
 ],
 "metadata": {
  "kernelspec": {
   "display_name": ".venv",
   "language": "python",
   "name": "python3"
  },
  "language_info": {
   "codemirror_mode": {
    "name": "ipython",
    "version": 3
   },
   "file_extension": ".py",
   "mimetype": "text/x-python",
   "name": "python",
   "nbconvert_exporter": "python",
   "pygments_lexer": "ipython3",
   "version": "3.11.7"
  }
 },
 "nbformat": 4,
 "nbformat_minor": 2
}
