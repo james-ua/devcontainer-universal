{
 "cells": [
  {
   "cell_type": "code",
   "execution_count": 1,
   "metadata": {},
   "outputs": [
    {
     "name": "stdout",
     "output_type": "stream",
     "text": [
      "Requirement already satisfied: faker in ./.venv/lib/python3.11/site-packages (24.4.0)\n",
      "Requirement already satisfied: python-dateutil>=2.4 in /home/codespace/.local/lib/python3.11/site-packages (from faker) (2.9.0.post0)\n",
      "Requirement already satisfied: six>=1.5 in /home/codespace/.local/lib/python3.11/site-packages (from python-dateutil>=2.4->faker) (1.16.0)\n",
      "\n",
      "\u001b[1m[\u001b[0m\u001b[34;49mnotice\u001b[0m\u001b[1;39;49m]\u001b[0m\u001b[39;49m A new release of pip is available: \u001b[0m\u001b[31;49m23.2.1\u001b[0m\u001b[39;49m -> \u001b[0m\u001b[32;49m24.0\u001b[0m\n",
      "\u001b[1m[\u001b[0m\u001b[34;49mnotice\u001b[0m\u001b[1;39;49m]\u001b[0m\u001b[39;49m To update, run: \u001b[0m\u001b[32;49mpip install --upgrade pip\u001b[0m\n"
     ]
    }
   ],
   "source": [
    "!pip install faker"
   ]
  },
  {
   "cell_type": "code",
   "execution_count": 26,
   "metadata": {},
   "outputs": [
    {
     "name": "stderr",
     "output_type": "stream",
     "text": [
      "24/04/01 11:12:13 WARN SparkSession: Using an existing Spark session; only runtime SQL configurations will take effect.\n"
     ]
    },
    {
     "name": "stdout",
     "output_type": "stream",
     "text": [
      "[Database(name='default', catalog='spark_catalog', description='Default Hive database', locationUri='file:/workspaces/devcontainer-universal/spark-warehouse')]\n"
     ]
    }
   ],
   "source": [
    "import pyspark\n",
    "from faker import Faker\n",
    "from pyspark.sql import SparkSession, DataFrame, functions as F, types as t\n",
    "from pyspark.sql.window import Window\n",
    "import random\n",
    "from datetime import datetime, timedelta, date\n",
    "\n",
    "spark = SparkSession \\\n",
    "    .builder \\\n",
    "    .master(\"local[1]\") \\\n",
    "    .appName(\"pyspark-test01\") \\\n",
    "    .config(\"spark.sql.warehouse.dir\", \"spark-warehouse\") \\\n",
    "    .enableHiveSupport() \\\n",
    "    .getOrCreate()\n",
    "print(spark.catalog.listDatabases())\n",
    "\n",
    "fake = Faker()\n",
    "Faker.seed(42)\n",
    "random.seed(42)\n"
   ]
  },
  {
   "cell_type": "code",
   "execution_count": 133,
   "metadata": {
    "tags": [
     "UDFs"
    ]
   },
   "outputs": [],
   "source": [
    "@F.udf(t.IntegerType())\n",
    "def f_int(min:int, max:int) -> int:\n",
    "    return fake.random_int(min=min, max=max)\n",
    "\n",
    "@F.udf\n",
    "def f_intUnique(digits:int) -> int:\n",
    "    return fake.unique.random_number(digits=digits)\n",
    "\n",
    "@F.udf\n",
    "def f_choise(list:list, weights:list) -> str:\n",
    "    return random.choices(list,weights=weights)[0]\n",
    "\n",
    "@F.udf\n",
    "def f_choise_active() -> str:\n",
    "    return random.choices(['Active', 'Inactive'],weights=[0.8,0.2])[0]\n",
    "\n",
    "@F.udf\n",
    "def f_bool() -> bool:\n",
    "    return fake.boolean()\n",
    "\n",
    "@F.udf\n",
    "def f_GUID() -> str:\n",
    "    return fake.uuid4()\n",
    "\n",
    "@F.udf\n",
    "def f_hash() -> str:\n",
    "    return fake.md5(raw_output=False)\n",
    "\n",
    "@F.udf\n",
    "def f_date(start:str='-3y', end:str='now') -> str:\n",
    "    return str(fake.date_between(start_date=start, end_date=end))\n",
    "\n",
    "@F.udf\n",
    "def f_timestamp(start:str='-3y', end:str='now') -> str:\n",
    "    return str(fake.date_time_between(start_date=start, end_date=end))\n"
   ]
  },
  {
   "cell_type": "code",
   "execution_count": 134,
   "metadata": {},
   "outputs": [
    {
     "name": "stdout",
     "output_type": "stream",
     "text": [
      "+------------+--------------------+----------------------------------+--------------------------------------+--------------------------------------------+------------------------------------------+-----------------------------------------+---------------------------------+---------------------------+----------------------------------+----------------------------+----------------------------------------+--------------------------------+-------------------------------------+\n",
      "|Consumer_Key|Consumer_Loyalty_Key|Consumer_Loyalty_Program_Level_Key|Consumer_Loyalty_Membership_Identifier|Consumer_Loyalty_Record_Valid_From_Timestamp|Consumer_Loyalty_Record_Valid_To_Timestamp|Consumer_Loyalty_Current_Record_Indicator|Consumer_Loyalty_Anniversary_Date|Consumer_Loyalty_Level_Code|Consumer_Loyalty_Level_Description|Consumer_Loyalty_Status_Code|Consumer_Loyalty_Enrollment_Channel_Code|Consumer_Loyalty_Start_Timestamp|Consumer_Loyalty_Anniversary_End_Date|\n",
      "+------------+--------------------+----------------------------------+--------------------------------------+--------------------------------------------+------------------------------------------+-----------------------------------------+---------------------------------+---------------------------+----------------------------------+----------------------------+----------------------------------------+--------------------------------+-------------------------------------+\n",
      "|        1701|              670487|                              1825|                                STRING|                        2023-03-03 16:04:...|                      2023-03-03 16:04:...|                                    false|                       2023-03-02|                     STRING|                            STRING|                      Active|                                  STRING|            2023-03-03 16:04:...|                           2023-03-02|\n",
      "|       23735|              116739|                               410|                                STRING|                        2021-04-29 10:36:...|                      2021-04-29 10:36:...|                                     true|                       2021-04-28|                     STRING|                            STRING|                    Inactive|                                  STRING|            2021-04-29 10:36:...|                           2021-04-28|\n",
      "|       35873|               26225|                              4507|                                STRING|                        2022-01-28 09:24:...|                      2022-01-28 09:24:...|                                     true|                       2022-01-27|                     STRING|                            STRING|                    Inactive|                                  STRING|            2022-01-28 09:24:...|                           2022-01-27|\n",
      "|       43076|              777572|                              4013|                                STRING|                        2021-12-02 14:43:...|                      2021-12-02 14:43:...|                                    false|                       2021-12-01|                     STRING|                            STRING|                      Active|                                  STRING|            2021-12-02 14:43:...|                           2021-12-01|\n",
      "|       43219|              288389|                              3658|                                STRING|                        2023-06-18 00:04:...|                      2023-06-18 00:04:...|                                     true|                       2023-06-17|                     STRING|                            STRING|                      Active|                                  STRING|            2023-06-18 00:04:...|                           2023-06-17|\n",
      "|       48349|              256787|                              2287|                                STRING|                        2023-04-13 12:14:...|                      2023-04-13 12:14:...|                                     true|                       2023-04-12|                     STRING|                            STRING|                      Active|                                  STRING|            2023-04-13 12:14:...|                           2023-04-12|\n",
      "|       50710|              234053|                              1680|                                STRING|                        2023-12-05 14:47:...|                      2023-12-05 14:47:...|                                     true|                       2023-12-04|                     STRING|                            STRING|                    Inactive|                                  STRING|            2023-12-05 14:47:...|                           2023-12-04|\n",
      "|       52774|              146316|                              8936|                                STRING|                        2021-07-06 07:08:...|                      2021-07-06 07:08:...|                                     true|                       2021-07-05|                     STRING|                            STRING|                      Active|                                  STRING|            2021-07-06 07:08:...|                           2021-07-05|\n",
      "|       71603|              772246|                              1425|                                STRING|                        2022-07-08 08:17:...|                      2022-07-08 08:17:...|                                    false|                       2022-07-07|                     STRING|                            STRING|                      Active|                                  STRING|            2022-07-08 08:17:...|                           2022-07-07|\n",
      "|       79415|              107473|                              9675|                                STRING|                        2021-05-04 16:28:...|                      2021-05-04 16:28:...|                                     true|                       2021-05-03|                     STRING|                            STRING|                      Active|                                  STRING|            2021-05-04 16:28:...|                           2021-05-03|\n",
      "|       79470|              709570|                              6913|                                STRING|                        2021-11-27 14:28:...|                      2021-11-27 14:28:...|                                    false|                       2021-11-26|                     STRING|                            STRING|                    Inactive|                                  STRING|            2021-11-27 14:28:...|                           2021-11-26|\n",
      "|       81071|              776646|                               521|                                STRING|                        2022-10-07 18:21:...|                      2022-10-07 18:21:...|                                    false|                       2022-10-06|                     STRING|                            STRING|                      Active|                                  STRING|            2022-10-07 18:21:...|                           2022-10-06|\n",
      "|      101757|              935518|                               489|                                STRING|                        2021-05-01 02:42:...|                      2021-05-01 02:42:...|                                    false|                       2021-04-30|                     STRING|                            STRING|                    Inactive|                                  STRING|            2021-05-01 02:42:...|                           2021-04-30|\n",
      "|      103119|              571858|                              1536|                                STRING|                        2021-11-05 21:46:...|                      2021-11-05 21:46:...|                                     true|                       2021-11-04|                     STRING|                            STRING|                    Inactive|                                  STRING|            2021-11-05 21:46:...|                           2021-11-04|\n",
      "|      109751|               91161|                              3583|                                STRING|                        2023-03-15 03:04:...|                      2023-03-15 03:04:...|                                    false|                       2023-03-14|                     STRING|                            STRING|                      Active|                                  STRING|            2023-03-15 03:04:...|                           2023-03-14|\n",
      "|      120461|              619176|                              3812|                                STRING|                        2022-11-20 03:22:...|                      2022-11-20 03:22:...|                                    false|                       2022-11-19|                     STRING|                            STRING|                      Active|                                  STRING|            2022-11-20 03:22:...|                           2022-11-19|\n",
      "|      127543|              442417|                              8280|                                STRING|                        2021-11-29 13:52:...|                      2021-11-29 13:52:...|                                     true|                       2021-11-28|                     STRING|                            STRING|                      Active|                                  STRING|            2021-11-29 13:52:...|                           2021-11-28|\n",
      "|      131637|               33326|                              9864|                                STRING|                        2023-01-07 16:58:...|                      2023-01-07 16:58:...|                                     true|                       2023-01-06|                     STRING|                            STRING|                      Active|                                  STRING|            2023-01-07 16:58:...|                           2023-01-06|\n",
      "|      133033|               31244|                               435|                                STRING|                        2023-09-05 22:42:...|                      2023-09-05 22:42:...|                                     true|                       2023-09-05|                     STRING|                            STRING|                      Active|                                  STRING|            2023-09-05 22:42:...|                           2023-09-05|\n",
      "|      139259|               98246|                              9196|                                STRING|                        2021-04-09 03:47:...|                      2021-04-09 03:47:...|                                     true|                       2021-04-08|                     STRING|                            STRING|                      Active|                                  STRING|            2021-04-09 03:47:...|                           2021-04-08|\n",
      "+------------+--------------------+----------------------------------+--------------------------------------+--------------------------------------------+------------------------------------------+-----------------------------------------+---------------------------------+---------------------------+----------------------------------+----------------------------+----------------------------------------+--------------------------------+-------------------------------------+\n",
      "only showing top 20 rows\n",
      "\n"
     ]
    }
   ],
   "source": [
    "consumers = spark.read.table('consumer_dimension').select('Consumer_Key')\n",
    "consumers.count()\n",
    "'''\n",
    "  Consumer_Loyalty_Key BIGINT,\n",
    "  Consumer_Key BIGINT,\n",
    "  Consumer_Loyalty_Program_Level_Key BIGINT,\n",
    "  Consumer_Loyalty_Membership_Identifier STRING,\n",
    "  Consumer_Loyalty_Record_Valid_From_Timestamp TIMESTAMP,\n",
    "  Consumer_Loyalty_Record_Valid_To_Timestamp TIMESTAMP,\n",
    "  Consumer_Loyalty_Current_Record_Indicator TINYINT,\n",
    "  Consumer_Loyalty_Anniversary_Date DATE,\n",
    "  Consumer_Loyalty_Level_Code STRING,\n",
    "  Consumer_Loyalty_Level_Description STRING,\n",
    "  Consumer_Loyalty_Status_Code STRING,\n",
    "  Consumer_Loyalty_Enrollment_Channel_Code STRING,\n",
    "  Consumer_Loyalty_Start_Timestamp TIMESTAMP,\n",
    "  Consumer_Loyalty_Anniversary_End_Date DATE,\n",
    "  Consumer_Loyalty_Available_Point_Number INT,\n",
    "  Consumer_Loyalty_Pending_Point_Number INT,\n",
    "  Consumer_Loyalty_Qualifying_Point_Number INT,\n",
    "  Consumer_Loyalty_Available_Amount DECIMAL(14,2),\n",
    "  Consumer_Loyalty_Pending_Amount DECIMAL(14,2),\n",
    "  Consumer_Loyalty_Qualifying_Amount DECIMAL(14,2),\n",
    "  Consumer_Loyalty_Last_Activity_Timestamp TIMESTAMP,\n",
    "  Consumer_Loyalty_Active_Indicator TINYINT,\n",
    "  Consumer_Loyalty_Record_Created_Timestamp TIMESTAMP,\n",
    "  Consumer_Loyalty_Record_Modified_Timestamp TIMESTAMP\n",
    "'''\n",
    "tmp_df = (consumers\n",
    "          .withColumn('Consumer_Loyalty_Key', f_intUnique(F.lit(6)))\n",
    "          .withColumn('Consumer_Loyalty_Program_Level_Key', f_int(F.lit(1),F.lit(10000))) # BIGINT,\n",
    "          .withColumn('Consumer_Loyalty_Membership_Identifier', F.lit('STRING')) # STRING,\n",
    "          .withColumn('Consumer_Loyalty_Record_Valid_From_Timestamp', f_timestamp()) # TIMESTAMP,\n",
    "          .withColumn('Consumer_Loyalty_Record_Valid_To_Timestamp', f_timestamp()) # TIMESTAMP,\n",
    "          .withColumn('Consumer_Loyalty_Current_Record_Indicator', f_bool()) # TINYINT,\n",
    "          .withColumn('Consumer_Loyalty_Anniversary_Date', f_date()) # DATE,\n",
    "          .withColumn('Consumer_Loyalty_Level_Code', F.lit('STRING')) # STRING,\n",
    "          .withColumn('Consumer_Loyalty_Level_Description', F.lit('STRING')) # STRING,\n",
    "          .withColumn('Consumer_Loyalty_Status_Code', f_choise_active()) # STRING,\n",
    "          .withColumn('Consumer_Loyalty_Enrollment_Channel_Code', F.lit('STRING')) # STRING,\n",
    "          .withColumn('Consumer_Loyalty_Start_Timestamp', f_timestamp()) # TIMESTAMP,\n",
    "          .withColumn('Consumer_Loyalty_Anniversary_End_Date', f_date()) # DATE,\n",
    "        #   .withColumn('Consumer_Loyalty_Available_Point_Number', f_()) # INT,\n",
    "        #   .withColumn('Consumer_Loyalty_Pending_Point_Number', f_()) # INT,\n",
    "        #   .withColumn('Consumer_Loyalty_Qualifying_Point_Number', f_()) # INT,\n",
    "        #   .withColumn('Consumer_Loyalty_Available_Amount', f_()) # DECIMAL(14,2),\n",
    "        #   .withColumn('Consumer_Loyalty_Pending_Amount', f_()) # DECIMAL(14,2),\n",
    "        #   .withColumn('Consumer_Loyalty_Qualifying_Amount', f_()) # DECIMAL(14,2),\n",
    "        #   .withColumn('Consumer_Loyalty_Last_Activity_Timestamp', f_()) # TIMESTAMP,\n",
    "        #   .withColumn('Consumer_Loyalty_Active_Indicator', f_()) # TINYINT,\n",
    "        #   .withColumn('Consumer_Loyalty_Record_Created_Timestamp', f_()) # TIMESTAMP,\n",
    "        #   .withColumn('Consumer_Loyalty_Record_Modified_Timestamp', f_()) # TIMESTAMP\n",
    ")\n",
    "tmp_df.show()"
   ]
  },
  {
   "cell_type": "code",
   "execution_count": 45,
   "metadata": {},
   "outputs": [],
   "source": [
    "groupBy_columns = ['Division_Code_Key','Region_Code_Key','Affiliate_Code_Key','Market_Code_Key']\n",
    "\n",
    "# Total Buyers, will join it to Consumer Dimention on Consumer Master Reg GUID\n",
    "trans_head = spark.read.table('transaction_header').select('Source_Consumer_Key')\n",
    "master_reg = spark.read.table('master_registry').select('Source_Consumer_Key', 'Consumer_Master_Registry_Global_Unique_Identifier')\n",
    "total_buyers = (\n",
    "    master_reg\n",
    "    .join(trans_head, master_reg.Source_Consumer_Key == trans_head.Source_Consumer_Key, 'left')\n",
    ")"
   ]
  },
  {
   "cell_type": "code",
   "execution_count": null,
   "metadata": {},
   "outputs": [],
   "source": [
    "# Lifecycle\n",
    "lifecycle = (\n",
    "    spark.read.table('consumer_lifecycle')\n",
    "    .select('Consumer_Key','Consumer_Lifecycle_Status_Code_Key')\n",
    "    .where(F.col('Consumer_Lifecycle_Status_Current_Record_Indicator') == 1)\n",
    ")"
   ]
  },
  {
   "cell_type": "code",
   "execution_count": 113,
   "metadata": {},
   "outputs": [
    {
     "name": "stderr",
     "output_type": "stream",
     "text": [
      "24/04/01 17:22:13 WARN ResolveSessionCatalog: A Hive serde table will be created as there is no table provider specified. You can set spark.sql.legacy.createHiveTableByDefault to false so that native data source table will be created instead.\n",
      "24/04/01 17:22:13 WARN HiveMetaStore: Location: file:/workspaces/devcontainer-universal/spark-warehouse/consumer_loyalty specified for non-external table:consumer_loyalty\n"
     ]
    },
    {
     "data": {
      "text/plain": [
       "DataFrame[]"
      ]
     },
     "execution_count": 113,
     "metadata": {},
     "output_type": "execute_result"
    }
   ],
   "source": [
    "# Loyalty\n",
    "# loyalty = spark.read.table('consumer_loyalty')\n",
    "spark.sql(\n",
    "    '''\n",
    "    CREATE TABLE consumer_loyalty (\n",
    "  Consumer_Loyalty_Key BIGINT NOT NULL,\n",
    "  Consumer_Key BIGINT NOT NULL,\n",
    "  Consumer_Loyalty_Program_Level_Key BIGINT,\n",
    "  Consumer_Loyalty_Membership_Identifier STRING NOT NULL,\n",
    "  Consumer_Loyalty_Record_Valid_From_Timestamp TIMESTAMP NOT NULL,\n",
    "  Consumer_Loyalty_Record_Valid_To_Timestamp TIMESTAMP NOT NULL,\n",
    "  Consumer_Loyalty_Current_Record_Indicator TINYINT,\n",
    "  Consumer_Loyalty_Anniversary_Date DATE,\n",
    "  Consumer_Loyalty_Level_Code STRING,\n",
    "  Consumer_Loyalty_Level_Description STRING,\n",
    "  Consumer_Loyalty_Status_Code STRING,\n",
    "  Consumer_Loyalty_Enrollment_Channel_Code STRING,\n",
    "  Consumer_Loyalty_Start_Timestamp TIMESTAMP,\n",
    "  Consumer_Loyalty_Anniversary_End_Date DATE,\n",
    "  Consumer_Loyalty_Available_Point_Number INT,\n",
    "  Consumer_Loyalty_Pending_Point_Number INT,\n",
    "  Consumer_Loyalty_Qualifying_Point_Number INT,\n",
    "  Consumer_Loyalty_Available_Amount DECIMAL(14,2),\n",
    "  Consumer_Loyalty_Pending_Amount DECIMAL(14,2),\n",
    "  Consumer_Loyalty_Qualifying_Amount DECIMAL(14,2),\n",
    "  Consumer_Loyalty_Last_Activity_Timestamp TIMESTAMP,\n",
    "  Consumer_Loyalty_Active_Indicator TINYINT,\n",
    "  Consumer_Loyalty_Record_Created_Timestamp TIMESTAMP NOT NULL,\n",
    "  Consumer_Loyalty_Record_Modified_Timestamp TIMESTAMP NOT NULL)\n",
    "    '''\n",
    ")"
   ]
  },
  {
   "cell_type": "code",
   "execution_count": 74,
   "metadata": {},
   "outputs": [
    {
     "name": "stdout",
     "output_type": "stream",
     "text": [
      "+------------+-----------------+---------------+------------------+---------------+-------------------------------------------+---------------------------------------+------------------------------------------------+-----------------------------------------+\n",
      "|Consumer_Key|Division_Code_Key|Region_Code_Key|Affiliate_Code_Key|Market_Code_Key|Consumer_Phone_SMS_Opt_In_Opt_Out_Indicator|Consumer_Email_Opt_In_Opt_Out_Indicator|Consumer_Address_Postal_Opt_In_Opt_Out_Indicator|Consumer_Address_Current_Record_Indicator|\n",
      "+------------+-----------------+---------------+------------------+---------------+-------------------------------------------+---------------------------------------+------------------------------------------------+-----------------------------------------+\n",
      "|        1701|                1|             10|            886963|              1|                                          0|                                   NULL|                                            NULL|                                     NULL|\n",
      "|       23735|                3|             10|            184991|              1|                                          1|                                   NULL|                                            NULL|                                     NULL|\n",
      "|       35873|               10|             10|            588046|              1|                                       NULL|                                      0|                                            NULL|                                     NULL|\n",
      "|       43076|               12|             10|            800039|              1|                                       NULL|                                      1|                                            NULL|                                     NULL|\n",
      "|       43219|               22|             10|            733440|              1|                                       NULL|                                   NULL|                                            NULL|                                     NULL|\n",
      "|       48349|               21|             10|            449523|              1|                                          1|                                   NULL|                                            NULL|                                     NULL|\n",
      "|       50710|               17|             10|            516335|              1|                                       NULL|                                   NULL|                                            NULL|                                     NULL|\n",
      "|       52774|               12|             10|            754082|              1|                                       NULL|                                   NULL|                                            NULL|                                     NULL|\n",
      "|       71603|               21|             10|            260413|              1|                                       NULL|                                   NULL|                                            NULL|                                     NULL|\n",
      "|       79415|               10|             10|            586846|              1|                                          0|                                   NULL|                                            NULL|                                     NULL|\n",
      "|       79470|                1|             10|            809587|              1|                                          1|                                   NULL|                                            NULL|                                     NULL|\n",
      "|       81071|               21|             10|            317140|              1|                                       NULL|                                   NULL|                                            NULL|                                     NULL|\n",
      "|      101757|               12|             10|            989387|              1|                                       NULL|                                   NULL|                                            NULL|                                     NULL|\n",
      "|      103119|               26|             10|            212090|              1|                                          1|                                   NULL|                                            NULL|                                     NULL|\n",
      "|      109751|               17|             10|            319009|              1|                                       NULL|                                      0|                                            NULL|                                     NULL|\n",
      "|      120461|               11|             10|            483619|              1|                                       NULL|                                   NULL|                                            NULL|                                     NULL|\n",
      "|      127543|               26|             10|            123148|              1|                                          1|                                   NULL|                                            NULL|                                     NULL|\n",
      "|      131637|               10|             10|            772218|              1|                                       NULL|                                      1|                                            NULL|                                     NULL|\n",
      "|      133033|               12|             10|            180857|              1|                                       NULL|                                   NULL|                                            NULL|                                     NULL|\n",
      "|      139259|               26|             10|            493745|              1|                                          1|                                   NULL|                                            NULL|                                     NULL|\n",
      "+------------+-----------------+---------------+------------------+---------------+-------------------------------------------+---------------------------------------+------------------------------------------------+-----------------------------------------+\n",
      "only showing top 20 rows\n",
      "\n"
     ]
    }
   ],
   "source": [
    "# Contactables\n",
    "phone = spark.read.table('consumer_phone').select('Consumer_Key','Consumer_Phone_SMS_Opt_In_Opt_Out_Indicator').where(F.col('Consumer_Phone_Current_Record_Indicator') == 1)\n",
    "email = spark.read.table('consumer_email').select('Consumer_Key','Consumer_Email_Opt_In_Opt_Out_Indicator').where(F.col('Consumer_Email_Current_Record_Indicator') == 1)\n",
    "address = spark.read.table('consumer_address').select('Consumer_Key','Consumer_Address_Postal_Opt_In_Opt_Out_Indicator','Consumer_Address_Current_Record_Indicator').where(F.col('Consumer_Address_Current_Record_Indicator')==1)\n",
    "consumers = spark.read.table('consumer_dimension').select('Consumer_Key', *groupBy_columns)\n",
    "contactable = (consumers\n",
    "               .join(phone, consumers.Consumer_Key == phone.Consumer_Key, 'left').drop(phone.Consumer_Key)\n",
    "               .join(email, consumers.Consumer_Key == email.Consumer_Key, 'left').drop(email.Consumer_Key)\n",
    "               .join(address, consumers.Consumer_Key == address.Consumer_Key, 'left').drop(address.Consumer_Key)\n",
    ")\n",
    "contactable.show()\n"
   ]
  },
  {
   "cell_type": "code",
   "execution_count": null,
   "metadata": {},
   "outputs": [],
   "source": []
  }
 ],
 "metadata": {
  "kernelspec": {
   "display_name": ".venv",
   "language": "python",
   "name": "python3"
  },
  "language_info": {
   "codemirror_mode": {
    "name": "ipython",
    "version": 3
   },
   "file_extension": ".py",
   "mimetype": "text/x-python",
   "name": "python",
   "nbconvert_exporter": "python",
   "pygments_lexer": "ipython3",
   "version": "3.11.7"
  }
 },
 "nbformat": 4,
 "nbformat_minor": 2
}
