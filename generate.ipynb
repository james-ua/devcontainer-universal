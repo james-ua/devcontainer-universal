{
 "cells": [
  {
   "cell_type": "code",
   "execution_count": 1,
   "metadata": {},
   "outputs": [
    {
     "name": "stdout",
     "output_type": "stream",
     "text": [
      "Requirement already satisfied: faker in ./.venv/lib/python3.11/site-packages (24.4.0)\n",
      "Requirement already satisfied: python-dateutil>=2.4 in /home/codespace/.local/lib/python3.11/site-packages (from faker) (2.9.0.post0)\n",
      "Requirement already satisfied: six>=1.5 in /home/codespace/.local/lib/python3.11/site-packages (from python-dateutil>=2.4->faker) (1.16.0)\n",
      "\n",
      "\u001b[1m[\u001b[0m\u001b[34;49mnotice\u001b[0m\u001b[1;39;49m]\u001b[0m\u001b[39;49m A new release of pip is available: \u001b[0m\u001b[31;49m23.2.1\u001b[0m\u001b[39;49m -> \u001b[0m\u001b[32;49m24.0\u001b[0m\n",
      "\u001b[1m[\u001b[0m\u001b[34;49mnotice\u001b[0m\u001b[1;39;49m]\u001b[0m\u001b[39;49m To update, run: \u001b[0m\u001b[32;49mpip install --upgrade pip\u001b[0m\n"
     ]
    }
   ],
   "source": [
    "!pip install faker"
   ]
  },
  {
   "cell_type": "code",
   "execution_count": 1,
   "metadata": {},
   "outputs": [
    {
     "name": "stderr",
     "output_type": "stream",
     "text": [
      "Setting default log level to \"WARN\".\n",
      "To adjust logging level use sc.setLogLevel(newLevel). For SparkR, use setLogLevel(newLevel).\n",
      "24/04/02 13:57:05 WARN NativeCodeLoader: Unable to load native-hadoop library for your platform... using builtin-java classes where applicable\n",
      "24/04/02 13:57:10 WARN HiveConf: HiveConf of name hive.stats.jdbc.timeout does not exist\n",
      "24/04/02 13:57:10 WARN HiveConf: HiveConf of name hive.stats.retries.wait does not exist\n",
      "24/04/02 13:57:13 WARN ObjectStore: Version information not found in metastore. hive.metastore.schema.verification is not enabled so recording the schema version 2.3.0\n",
      "24/04/02 13:57:13 WARN ObjectStore: setMetaStoreSchemaVersion called but recording version is disabled: version = 2.3.0, comment = Set by MetaStore codespace@172.17.0.3\n"
     ]
    },
    {
     "name": "stdout",
     "output_type": "stream",
     "text": [
      "[Database(name='default', catalog='spark_catalog', description='Default Hive database', locationUri='file:/workspaces/devcontainer-universal/spark-warehouse')]\n"
     ]
    },
    {
     "name": "stderr",
     "output_type": "stream",
     "text": [
      "24/04/02 13:57:19 WARN GarbageCollectionMetrics: To enable non-built-in garbage collector(s) List(G1 Concurrent GC), users should configure it(them) to spark.eventLog.gcMetrics.youngGenerationGarbageCollectors or spark.eventLog.gcMetrics.oldGenerationGarbageCollectors\n"
     ]
    }
   ],
   "source": [
    "import pyspark\n",
    "from faker import Faker\n",
    "from pyspark.sql import SparkSession, DataFrame, functions as F, types as t\n",
    "from pyspark.sql.window import Window\n",
    "import random\n",
    "from datetime import datetime, timedelta, date\n",
    "\n",
    "spark = SparkSession \\\n",
    "    .builder \\\n",
    "    .master(\"local[1]\") \\\n",
    "    .appName(\"pyspark-test01\") \\\n",
    "    .config(\"spark.sql.warehouse.dir\", \"spark-warehouse\") \\\n",
    "    .enableHiveSupport() \\\n",
    "    .getOrCreate()\n",
    "print(spark.catalog.listDatabases())\n",
    "\n",
    "fake = Faker()\n",
    "Faker.seed(42)\n",
    "random.seed(42)\n"
   ]
  },
  {
   "cell_type": "code",
   "execution_count": 10,
   "metadata": {
    "tags": [
     "UDFs"
    ]
   },
   "outputs": [],
   "source": [
    "@F.udf(t.IntegerType())\n",
    "def f_int(min:int, max:int) -> int:\n",
    "    return fake.random_int(min=min, max=max)\n",
    "\n",
    "@F.udf(t.IntegerType())\n",
    "def f_intUnique(digits:int) -> int:\n",
    "    return fake.unique.random_number(digits=digits)\n",
    "\n",
    "@F.udf(t.DecimalType())\n",
    "def f_decimal(min:int, max:int) -> float:\n",
    "    return fake.pydecimal(left_digits=12, right_digits=2, positive = True, min_value=min, max_value=max)\n",
    "\n",
    "@F.udf(t.StringType())\n",
    "def f_choise(list:list, weights:list) -> str:\n",
    "    return random.choices(list,weights=weights)[0]\n",
    "\n",
    "@F.udf(t.StringType())\n",
    "def f_choise_active() -> str:\n",
    "    return random.choices(['Active', 'Inactive'],weights=[0.8,0.2])[0]\n",
    "\n",
    "@F.udf(t.BooleanType())\n",
    "def f_bool() -> bool:\n",
    "    return fake.boolean()\n",
    "\n",
    "@F.udf(t.StringType())\n",
    "def f_GUID() -> str:\n",
    "    return fake.uuid4()\n",
    "\n",
    "@F.udf(t.StringType())\n",
    "def f_hash() -> str:\n",
    "    return fake.md5(raw_output=False)\n",
    "\n",
    "@F.udf(t.StringType())\n",
    "def f_date(start:str='-3y', end:str='now') -> str:\n",
    "    return str(fake.date_between(start_date=start, end_date=end))\n",
    "\n",
    "@F.udf(t.StringType())\n",
    "def f_timestamp(start:str='-3y', end:str='now') -> str:\n",
    "    return str(fake.date_time_between(start_date=start, end_date=end))\n"
   ]
  },
  {
   "cell_type": "code",
   "execution_count": 25,
   "metadata": {},
   "outputs": [
    {
     "name": "stdout",
     "output_type": "stream",
     "text": [
      "+------------+--------------------+----------------------------------+--------------------------------------+--------------------------------------------+------------------------------------------+-----------------------------------------+---------------------------------+---------------------------+----------------------------------+----------------------------+----------------------------------------+--------------------------------+-------------------------------------+---------------------------------------+-------------------------------------+----------------------------------------+---------------------------------+-------------------------------+----------------------------------+----------------------------------------+---------------------------------+-----------------------------------------+------------------------------------------+\n",
      "|Consumer_Key|Consumer_Loyalty_Key|Consumer_Loyalty_Program_Level_Key|Consumer_Loyalty_Membership_Identifier|Consumer_Loyalty_Record_Valid_From_Timestamp|Consumer_Loyalty_Record_Valid_To_Timestamp|Consumer_Loyalty_Current_Record_Indicator|Consumer_Loyalty_Anniversary_Date|Consumer_Loyalty_Level_Code|Consumer_Loyalty_Level_Description|Consumer_Loyalty_Status_Code|Consumer_Loyalty_Enrollment_Channel_Code|Consumer_Loyalty_Start_Timestamp|Consumer_Loyalty_Anniversary_End_Date|Consumer_Loyalty_Available_Point_Number|Consumer_Loyalty_Pending_Point_Number|Consumer_Loyalty_Qualifying_Point_Number|Consumer_Loyalty_Available_Amount|Consumer_Loyalty_Pending_Amount|Consumer_Loyalty_Qualifying_Amount|Consumer_Loyalty_Last_Activity_Timestamp|Consumer_Loyalty_Active_Indicator|Consumer_Loyalty_Record_Created_Timestamp|Consumer_Loyalty_Record_Modified_Timestamp|\n",
      "+------------+--------------------+----------------------------------+--------------------------------------+--------------------------------------------+------------------------------------------+-----------------------------------------+---------------------------------+---------------------------+----------------------------------+----------------------------+----------------------------------------+--------------------------------+-------------------------------------+---------------------------------------+-------------------------------------+----------------------------------------+---------------------------------+-------------------------------+----------------------------------+----------------------------------------+---------------------------------+-----------------------------------------+------------------------------------------+\n",
      "|        1701|              670487|                              1825|                  bdd640fb-0667-4ad...|                        2023-03-04 12:26:...|                      2023-03-04 12:26:...|                                        0|                       2023-03-03|                     STRING|                            STRING|                    Inactive|                                  STRING|            2023-03-04 12:26:...|                           2023-03-03|                                     82|                                   41|                                      41|                              328|                            164|                                82|                    2023-03-04 12:26:...|                                0|                     2023-03-04 12:26:...|                      2023-03-04 12:26:...|\n",
      "|       23735|              116739|                               410|                  23b8c1e9-3924-46d...|                        2021-04-30 06:58:...|                      2021-04-30 06:58:...|                                        1|                       2021-04-29|                     STRING|                            STRING|                    Inactive|                                  STRING|            2021-04-30 06:58:...|                           2021-04-29|                                     15|                                    8|                                       8|                              380|                            190|                                95|                    2021-04-30 06:58:...|                                1|                     2021-04-30 06:58:...|                      2021-04-30 06:58:...|\n",
      "|       35873|               26225|                              4507|                  bd9c66b3-ad3c-4d6...|                        2022-01-29 05:47:...|                      2022-01-29 05:47:...|                                        1|                       2022-01-28|                     STRING|                            STRING|                      Active|                                  STRING|            2022-01-29 05:47:...|                           2022-01-28|                                      4|                                    2|                                       2|                              115|                             58|                                29|                    2022-01-29 05:47:...|                                1|                     2022-01-29 05:47:...|                      2022-01-29 05:47:...|\n",
      "|       43076|              777572|                              4013|                  972a8469-1641-4f8...|                        2021-12-03 11:05:...|                      2021-12-03 11:05:...|                                        0|                       2021-12-02|                     STRING|                            STRING|                    Inactive|                                  STRING|            2021-12-03 11:05:...|                           2021-12-02|                                     95|                                   48|                                      48|                              348|                            175|                                88|                    2021-12-03 11:05:...|                                0|                     2021-12-03 11:05:...|                      2021-12-03 11:05:...|\n",
      "|       43219|              288389|                              3658|                  17fc695a-07a0-4a6...|                        2023-06-18 20:27:...|                      2023-06-18 20:27:...|                                        1|                       2023-06-18|                     STRING|                            STRING|                    Inactive|                                  STRING|            2023-06-18 20:27:...|                           2023-06-18|                                     36|                                   18|                                      18|                              304|                            153|                                77|                    2023-06-18 20:27:...|                                1|                     2023-06-18 20:27:...|                      2023-06-18 20:27:...|\n",
      "|       48349|              256787|                              2287|                  9a1de644-815e-46d...|                        2023-04-14 08:37:...|                      2023-04-14 08:37:...|                                        1|                       2023-04-13|                     STRING|                            STRING|                    Inactive|                                  STRING|            2023-04-14 08:37:...|                           2023-04-13|                                     32|                                   16|                                      16|                               16|                              8|                                 4|                    2023-04-14 08:37:...|                                1|                     2023-04-14 08:37:...|                      2023-04-14 08:37:...|\n",
      "|       50710|              234053|                              1680|                  b74d0fb1-32e7-462...|                        2023-12-06 11:09:...|                      2023-12-06 11:09:...|                                        1|                       2023-12-05|                     STRING|                            STRING|                      Active|                                  STRING|            2023-12-06 11:09:...|                           2023-12-05|                                     29|                                   15|                                      15|                              121|                             61|                                31|                    2023-12-06 11:09:...|                                1|                     2023-12-06 11:09:...|                      2023-12-06 11:09:...|\n",
      "|       52774|              146316|                              8936|                  6b65a6a4-8b81-48f...|                        2021-07-07 03:31:...|                      2021-07-07 03:31:...|                                        1|                       2021-07-06|                     STRING|                            STRING|                      Active|                                  STRING|            2021-07-07 03:31:...|                           2021-07-06|                                     18|                                    9|                                       9|                               15|                              8|                                 5|                    2021-07-07 03:31:...|                                1|                     2021-07-07 03:31:...|                      2021-07-07 03:31:...|\n",
      "|       71603|              772246|                              1425|                  47378190-96da-4da...|                        2022-07-09 04:39:...|                      2022-07-09 04:39:...|                                        0|                       2022-07-08|                     STRING|                            STRING|                      Active|                                  STRING|            2022-07-09 04:39:...|                           2022-07-08|                                     95|                                   48|                                      48|                              368|                            185|                                93|                    2022-07-09 04:39:...|                                0|                     2022-07-09 04:39:...|                      2022-07-09 04:39:...|\n",
      "|       79415|              107473|                              9675|                  c241330b-01a9-471...|                        2021-05-05 12:50:...|                      2021-05-05 12:50:...|                                        1|                       2021-05-04|                     STRING|                            STRING|                      Active|                                  STRING|            2021-05-05 12:50:...|                           2021-05-04|                                     14|                                    7|                                       7|                              114|                             58|                                30|                    2021-05-05 12:50:...|                                1|                     2021-05-05 12:50:...|                      2021-05-05 12:50:...|\n",
      "|       79470|              709570|                              6913|                  6c307511-b2b9-437...|                        2021-11-28 10:50:...|                      2021-11-28 10:50:...|                                        0|                       2021-11-27|                     STRING|                            STRING|                      Active|                                  STRING|            2021-11-28 10:50:...|                           2021-11-27|                                     87|                                   44|                                      44|                              143|                             72|                                36|                    2021-11-28 10:50:...|                                0|                     2021-11-28 10:50:...|                      2021-11-28 10:50:...|\n",
      "|       81071|              776646|                               521|                  371ecd7b-27cd-413...|                        2022-10-08 14:43:...|                      2022-10-08 14:43:...|                                        0|                       2022-10-07|                     STRING|                            STRING|                      Active|                                  STRING|            2022-10-08 14:43:...|                           2022-10-07|                                     95|                                   48|                                      48|                              359|                            180|                                91|                    2022-10-08 14:43:...|                                0|                     2022-10-08 14:43:...|                      2022-10-08 14:43:...|\n",
      "|      101757|              935518|                               489|                  1a2a73ed-562b-4f7...|                        2021-05-01 23:05:...|                      2021-05-01 23:05:...|                                        0|                       2021-05-01|                     STRING|                            STRING|                    Inactive|                                  STRING|            2021-05-01 23:05:...|                           2021-05-01|                                     70|                                   35|                                      35|                              143|                             72|                                36|                    2021-05-01 23:05:...|                                0|                     2021-05-01 23:05:...|                      2021-05-01 23:05:...|\n",
      "|      103119|              571858|                              1536|                  5be6128e-18c2-479...|                        2021-11-06 18:09:...|                      2021-11-06 18:09:...|                                        1|                       2021-11-05|                     STRING|                            STRING|                      Active|                                  STRING|            2021-11-06 18:09:...|                           2021-11-05|                                     12|                                    6|                                       6|                              492|                            197|                                99|                    2021-11-06 18:09:...|                                1|                     2021-11-06 18:09:...|                      2021-11-06 18:09:...|\n",
      "|      109751|               91161|                              3583|                  43b7a3a6-9a8d-4a0...|                        2023-03-15 23:27:...|                      2023-03-15 23:27:...|                                        0|                       2023-03-15|                     STRING|                            STRING|                      Active|                                  STRING|            2023-03-15 23:27:...|                           2023-03-15|                                     76|                                   38|                                      38|                               49|                             25|                                13|                    2023-03-15 23:27:...|                                0|                     2023-03-15 23:27:...|                      2023-03-15 23:27:...|\n",
      "|      120461|              619176|                              3812|                  759cde66-bacf-43d...|                        2022-11-20 23:44:...|                      2022-11-20 23:44:...|                                        0|                       2022-11-20|                     STRING|                            STRING|                      Active|                                  STRING|            2022-11-20 23:44:...|                           2022-11-20|                                     55|                                   28|                                      28|                              185|                             93|                                47|                    2022-11-20 23:44:...|                                0|                     2022-11-20 23:44:...|                      2022-11-20 23:44:...|\n",
      "|      127543|              442417|                              8280|                  ec1b8ca1-f91e-4d4...|                        2021-11-30 10:15:...|                      2021-11-30 10:15:...|                                        1|                       2021-11-29|                     STRING|                            STRING|                      Active|                                  STRING|            2021-11-30 10:15:...|                           2021-11-29|                                      5|                                    3|                                       3|                              136|                             68|                                34|                    2021-11-30 10:15:...|                                1|                     2021-11-30 10:15:...|                      2021-11-30 10:15:...|\n",
      "|      131637|               33326|                              9864|                  4b0dbb41-8d52-48f...|                        2023-01-08 13:20:...|                      2023-01-08 13:20:...|                                        1|                       2023-01-07|                     STRING|                            STRING|                      Active|                                  STRING|            2023-01-08 13:20:...|                           2023-01-07|                                      4|                                    2|                                       2|                              275|                            138|                                69|                    2023-01-08 13:20:...|                                1|                     2023-01-08 13:20:...|                      2023-01-08 13:20:...|\n",
      "|      133033|               31244|                               435|                  e2acf72f-9e57-4f7...|                        2023-09-06 19:04:...|                      2023-09-06 19:04:...|                                        1|                       2023-09-06|                     STRING|                            STRING|                      Active|                                  STRING|            2023-09-06 19:04:...|                           2023-09-06|                                     12|                                    6|                                       6|                               42|                             22|                                12|                    2023-09-06 19:04:...|                                1|                     2023-09-06 19:04:...|                      2023-09-06 19:04:...|\n",
      "|      139259|               98246|                              9196|                  3139d32c-93cd-49b...|                        2021-04-10 00:09:...|                      2021-04-10 00:09:...|                                        1|                       2021-04-09|                     STRING|                            STRING|                      Active|                                  STRING|            2021-04-10 00:09:...|                           2021-04-09|                                     28|                                   14|                                      14|                              426|                            162|                                82|                    2021-04-10 00:09:...|                                1|                     2021-04-10 00:09:...|                      2021-04-10 00:09:...|\n",
      "+------------+--------------------+----------------------------------+--------------------------------------+--------------------------------------------+------------------------------------------+-----------------------------------------+---------------------------------+---------------------------+----------------------------------+----------------------------+----------------------------------------+--------------------------------+-------------------------------------+---------------------------------------+-------------------------------------+----------------------------------------+---------------------------------+-------------------------------+----------------------------------+----------------------------------------+---------------------------------+-----------------------------------------+------------------------------------------+\n",
      "only showing top 20 rows\n",
      "\n"
     ]
    }
   ],
   "source": [
    "consumers = spark.read.table('consumer_dimension').select('Consumer_Key')\n",
    "consumers.count()\n",
    "'''\n",
    "Transaction_Header_Key\tBIGINT\n",
    "Division_Code_Key\tBIGINT\n",
    "Region_Code_Key\tBIGINT\n",
    "Affiliate_Code_Key\tBIGINT\n",
    "Market_Code_Key\tBIGINT\n",
    "Source_Consumer_Key\tBIGINT\n",
    "Cfdm_Source_System_Code_Key\tBIGINT\n",
    "Customer_Door_Identifier_Key\tBIGINT\n",
    "Local_Currency_Code_Key\tBIGINT\n",
    "Date_Key\tINT\n",
    "Transaction_Header_Cfdm_Channel_Code_Key\tBIGINT\n",
    "Transaction_Header_Source_Transaction_Identifier\tSTRING\n",
    "Transaction_Header_Source_Store_Identifier\tSTRING\n",
    "Transaction_Header_Transaction_Timestamp\tTIMESTAMP\n",
    "Transaction_Header_Pos_Register_Identifier\tSTRING\n",
    "Transaction_Header_Transaction_Type_Name\tSTRING\n",
    "Transaction_Header_Consumer_Full_Name\tSTRING\n",
    "Transaction_Header_Consumer_Email_Address\tSTRING\n",
    "Transaction_Header_Online_Billing_Line_1_Address\tSTRING\n",
    "Transaction_Header_Online_Billing_Line_2_Address\tSTRING\n",
    "Transaction_Header_Online_Billing_Line_3_Address\tSTRING\n",
    "Transaction_Header_Online_Billing_City_Name\tSTRING\n",
    "Transaction_Header_Online_Billing_Country_Name\tSTRING\n",
    "Transaction_Header_Online_Billing_Postal_Code\tSTRING\n",
    "Transaction_Header_Tourist_Order_Indicator\tTINYINT\n",
    "Transaction_Header_Employee_Order_Indicator\tTINYINT\n",
    "Transaction_Header_Guest_Order_Indicator\tTINYINT\n",
    "Transaction_Header_Consumer_Capture_Indicator\tTINYINT\n",
    "Transaction_Header_Consumer_Mac_Pro_Indicator\tTINYINT\n",
    "Transaction_Header_Loyalty_Transaction_Indicator\tTINYINT\n",
    "Transaction_Header_Total_Amount\tDECIMAL(142)\n",
    "Calc_Transaction_Header_Total_Saleable_Amount\tDECIMAL(142)\n",
    "Calc_Transaction_Header_Total_Shipping_Amount\tDECIMAL(142)\n",
    "Calc_Transaction_Header_Total_Discount_Amount\tDECIMAL(142)\n",
    "Calc_Transaction_Header_Total_Returns_Amount\tDECIMAL(142)\n",
    "Calc_Transaction_Header_Total_Service_Amount\tDECIMAL(142)\n",
    "Transaction_Header_Total_Quantity\tINT\n",
    "Calc_Transaction_Header_Total_Saleable_Quantity\tINT\n",
    "Calc_Transaction_Header_Total_Shipping_Quantity\tINT\n",
    "Calc_Transaction_Header_Total_Discount_Quantity\tINT\n",
    "Calc_Transaction_Header_Total_Return_Quantity\tINT\n",
    "Calc_Transaction_Header_Total_Service_Quantity\tINT\n",
    "Calc_Transaction_Header_Total_Sample_Quantity\tINT\n",
    "Calc_Transaction_Header_Total_Gift_Quantity\tINT\n",
    "Calc_Transaction_Header_Distinct_Sku_Count\tINT\n",
    "Transaction_Header_Record_Created_Timestamp\tTIMESTAMP\n",
    "Transaction_Header_Record_Modified_Timestamp\tTIMESTAMP\n",
    "Transaction_Header_Source_Consumer_Identifier\tSTRING\n",
    "'''\n",
    "tmp_df = (consumers\n",
    "          .withColumn('Transaction_Header_Key', f_intUnique(F.lit(6)))  #\tBIGINT\n",
    "          .withColumn('Division_Code_Key', fff) #\tBIGINT\n",
    "          .withColumn('Region_Code_Key', fff) #\tBIGINT\n",
    "          .withColumn('Affiliate_Code_Key', fff)  #\tBIGINT\n",
    "          .withColumn('Market_Code_Key', fff) #\tBIGINT\n",
    "          .withColumn('Source_Consumer_Key', fff) #\tBIGINT\n",
    "          .withColumn('Cfdm_Source_System_Code_Key', fff) #\tBIGINT\n",
    "          .withColumn('Customer_Door_Identifier_Key', fff)  #\tBIGINT\n",
    "          .withColumn('Local_Currency_Code_Key', fff) #\tBIGINT\n",
    "          .withColumn('Date_Key', fff)  #\tINT\n",
    "          .withColumn('Transaction_Header_Cfdm_Channel_Code_Key', fff)  #\tBIGINT\n",
    "          .withColumn('Transaction_Header_Source_Transaction_Identifier', fff)  #\tSTRING\n",
    "          .withColumn('Transaction_Header_Source_Store_Identifier', fff)  #\tSTRING\n",
    "          .withColumn('Transaction_Header_Transaction_Timestamp', fff)  #\tTIMESTAMP\n",
    "          .withColumn('Transaction_Header_Pos_Register_Identifier', fff)  #\tSTRING\n",
    "          .withColumn('Transaction_Header_Transaction_Type_Name', fff)  #\tSTRING\n",
    "          .withColumn('Transaction_Header_Consumer_Full_Name', fff) #\tSTRING\n",
    "          .withColumn('Transaction_Header_Consumer_Email_Address', fff) #\tSTRING\n",
    "          .withColumn('Transaction_Header_Online_Billing_Line_1_Address', fff)  #\tSTRING\n",
    "          .withColumn('Transaction_Header_Online_Billing_Line_2_Address', fff)  #\tSTRING\n",
    "          .withColumn('Transaction_Header_Online_Billing_Line_3_Address', fff)  #\tSTRING\n",
    "          .withColumn('Transaction_Header_Online_Billing_City_Name', fff) #\tSTRING\n",
    "          .withColumn('Transaction_Header_Online_Billing_Country_Name', fff)  #\tSTRING\n",
    "          .withColumn('Transaction_Header_Online_Billing_Postal_Code', fff) #\tSTRING\n",
    "          .withColumn('Transaction_Header_Tourist_Order_Indicator', fff)  #\tTINYINT\n",
    "          .withColumn('Transaction_Header_Employee_Order_Indicator', fff) #\tTINYINT\n",
    "          .withColumn('Transaction_Header_Guest_Order_Indicator', fff)  #\tTINYINT\n",
    "          .withColumn('Transaction_Header_Consumer_Capture_Indicator', fff) #\tTINYINT\n",
    "          .withColumn('Transaction_Header_Consumer_Mac_Pro_Indicator', fff) #\tTINYINT\n",
    "          .withColumn('Transaction_Header_Loyalty_Transaction_Indicator', fff)  #\tTINYINT\n",
    "          .withColumn('Transaction_Header_Total_Amount\tDECIMAL', fff)  #(142)\n",
    "          .withColumn('Calc_Transaction_Header_Total_Saleable_Amount\tDECIMAL', fff)  #(142)\n",
    "          .withColumn('Calc_Transaction_Header_Total_Shipping_Amount\tDECIMAL', fff)  #(142)\n",
    "          .withColumn('Calc_Transaction_Header_Total_Discount_Amount\tDECIMAL', fff)  #(142)\n",
    "          .withColumn('Calc_Transaction_Header_Total_Returns_Amount\tDECIMAL', fff)  #(142)\n",
    "          .withColumn('Calc_Transaction_Header_Total_Service_Amount\tDECIMAL', fff)  #(142)\n",
    "          .withColumn('Transaction_Header_Total_Quantity', fff) #\tINT\n",
    "          .withColumn('Calc_Transaction_Header_Total_Saleable_Quantity', fff) #\tINT\n",
    "          .withColumn('Calc_Transaction_Header_Total_Shipping_Quantity', fff) #\tINT\n",
    "          .withColumn('Calc_Transaction_Header_Total_Discount_Quantity', fff) #\tINT\n",
    "          .withColumn('Calc_Transaction_Header_Total_Return_Quantity', fff) #\tINT\n",
    "          .withColumn('Calc_Transaction_Header_Total_Service_Quantity', fff)  #\tINT\n",
    "          .withColumn('Calc_Transaction_Header_Total_Sample_Quantity', fff) #\tINT\n",
    "          .withColumn('Calc_Transaction_Header_Total_Gift_Quantity', fff) #\tINT\n",
    "          .withColumn('Calc_Transaction_Header_Distinct_Sku_Count', fff)  #\tINT\n",
    "          .withColumn('Transaction_Header_Record_Created_Timestamp', fff) #\tTIMESTAMP\n",
    "          .withColumn('Transaction_Header_Record_Modified_Timestamp', fff)  #\tTIMESTAMP\n",
    "          .withColumn('Transaction_Header_Source_Consumer_Identifier', fff) #\tSTRING\n",
    "          \n",
    "          .withColumn('Consumer_Loyalty_Key', f_intUnique(F.lit(6)))\n",
    "          .withColumn('Consumer_Loyalty_Program_Level_Key', f_int(F.lit(1),F.lit(10000))) # BIGINT,\n",
    "          .withColumn('Consumer_Loyalty_Membership_Identifier', f_GUID()) # STRING,\n",
    "          .withColumn('Consumer_Loyalty_Record_Valid_From_Timestamp', F.to_timestamp(f_timestamp())) # TIMESTAMP,\n",
    "          .withColumn('Consumer_Loyalty_Record_Valid_To_Timestamp', F.to_timestamp(f_timestamp())) # TIMESTAMP,\n",
    "          .withColumn('Consumer_Loyalty_Current_Record_Indicator', f_bool().cast('integer')) # TINYINT,\n",
    "          .withColumn('Consumer_Loyalty_Anniversary_Date', f_date().cast('date')) # DATE,\n",
    "          .withColumn('Consumer_Loyalty_Level_Code', F.lit('STRING')) # STRING,\n",
    "          .withColumn('Consumer_Loyalty_Level_Description', F.lit('STRING')) # STRING,\n",
    "          .withColumn('Consumer_Loyalty_Status_Code', f_choise_active()) # STRING,\n",
    "          .withColumn('Consumer_Loyalty_Enrollment_Channel_Code', F.lit('STRING')) # STRING,\n",
    "          .withColumn('Consumer_Loyalty_Start_Timestamp', F.to_timestamp(f_timestamp())) # TIMESTAMP,\n",
    "          .withColumn('Consumer_Loyalty_Anniversary_End_Date', f_date().cast('date')) # DATE,\n",
    "          .withColumn('Consumer_Loyalty_Available_Point_Number', f_int(F.lit(1),F.lit(100))) # INT,\n",
    "          .withColumn('Consumer_Loyalty_Pending_Point_Number', f_int(F.lit(1),F.lit(50))) # INT,\n",
    "          .withColumn('Consumer_Loyalty_Qualifying_Point_Number', f_int(F.lit(1),F.lit(50))) # INT,\n",
    "          .withColumn('Consumer_Loyalty_Available_Amount', f_decimal(F.lit(1),F.lit(500))) # DECIMAL(14,2),\n",
    "          .withColumn('Consumer_Loyalty_Pending_Amount', f_decimal(F.lit(1),F.lit(200))) # DECIMAL(14,2),\n",
    "          .withColumn('Consumer_Loyalty_Qualifying_Amount', f_decimal(F.lit(1),F.lit(100))) # DECIMAL(14,2),\n",
    "          .withColumn('Consumer_Loyalty_Last_Activity_Timestamp', F.to_timestamp(f_timestamp())) # TIMESTAMP,\n",
    "          .withColumn('Consumer_Loyalty_Active_Indicator', f_bool().cast('integer')) # TINYINT,\n",
    "          .withColumn('Consumer_Loyalty_Record_Created_Timestamp', F.to_timestamp(f_timestamp())) # TIMESTAMP,\n",
    "          .withColumn('Consumer_Loyalty_Record_Modified_Timestamp', F.to_timestamp(f_timestamp())) # TIMESTAMP\n",
    ")\n",
    "tmp_df.show()\n"
   ]
  },
  {
   "cell_type": "code",
   "execution_count": 28,
   "metadata": {},
   "outputs": [
    {
     "name": "stdout",
     "output_type": "stream",
     "text": [
      "+--------------------+------------+----------------------------------+--------------------------------------+--------------------------------------------+------------------------------------------+-----------------------------------------+---------------------------------+---------------------------+----------------------------------+----------------------------+----------------------------------------+--------------------------------+-------------------------------------+---------------------------------------+-------------------------------------+----------------------------------------+---------------------------------+-------------------------------+----------------------------------+----------------------------------------+---------------------------------+-----------------------------------------+------------------------------------------+\n",
      "|Consumer_Loyalty_Key|Consumer_Key|Consumer_Loyalty_Program_Level_Key|Consumer_Loyalty_Membership_Identifier|Consumer_Loyalty_Record_Valid_From_Timestamp|Consumer_Loyalty_Record_Valid_To_Timestamp|Consumer_Loyalty_Current_Record_Indicator|Consumer_Loyalty_Anniversary_Date|Consumer_Loyalty_Level_Code|Consumer_Loyalty_Level_Description|Consumer_Loyalty_Status_Code|Consumer_Loyalty_Enrollment_Channel_Code|Consumer_Loyalty_Start_Timestamp|Consumer_Loyalty_Anniversary_End_Date|Consumer_Loyalty_Available_Point_Number|Consumer_Loyalty_Pending_Point_Number|Consumer_Loyalty_Qualifying_Point_Number|Consumer_Loyalty_Available_Amount|Consumer_Loyalty_Pending_Amount|Consumer_Loyalty_Qualifying_Amount|Consumer_Loyalty_Last_Activity_Timestamp|Consumer_Loyalty_Active_Indicator|Consumer_Loyalty_Record_Created_Timestamp|Consumer_Loyalty_Record_Modified_Timestamp|\n",
      "+--------------------+------------+----------------------------------+--------------------------------------+--------------------------------------------+------------------------------------------+-----------------------------------------+---------------------------------+---------------------------+----------------------------------+----------------------------+----------------------------------------+--------------------------------+-------------------------------------+---------------------------------------+-------------------------------------+----------------------------------------+---------------------------------+-------------------------------+----------------------------------+----------------------------------------+---------------------------------+-----------------------------------------+------------------------------------------+\n",
      "|                1701|      670487|                              1825|                  bdd640fb-0667-4ad...|                        2023-03-04 12:26:...|                      2023-03-04 12:26:...|                                        0|                       2023-03-03|                     STRING|                            STRING|                    Inactive|                                  STRING|            2023-03-04 12:26:...|                           2023-03-03|                                     82|                                   41|                                      41|                           328.00|                         164.00|                             82.00|                    2023-03-04 12:26:...|                                0|                     2023-03-04 12:26:...|                      2023-03-04 12:26:...|\n",
      "|               23735|      116739|                               410|                  23b8c1e9-3924-46d...|                        2021-04-30 06:58:...|                      2021-04-30 06:58:...|                                        1|                       2021-04-29|                     STRING|                            STRING|                      Active|                                  STRING|            2021-04-30 06:58:...|                           2021-04-29|                                     15|                                    8|                                       8|                           380.00|                         190.00|                             95.00|                    2021-04-30 06:58:...|                                1|                     2021-04-30 06:58:...|                      2021-04-30 06:58:...|\n",
      "|               35873|       26225|                              4507|                  bd9c66b3-ad3c-4d6...|                        2022-01-29 05:47:...|                      2022-01-29 05:47:...|                                        1|                       2022-01-28|                     STRING|                            STRING|                    Inactive|                                  STRING|            2022-01-29 05:47:...|                           2022-01-28|                                      4|                                    2|                                       2|                           115.00|                          58.00|                             29.00|                    2022-01-29 05:47:...|                                1|                     2022-01-29 05:47:...|                      2022-01-29 05:47:...|\n",
      "|               43076|      777572|                              4013|                  972a8469-1641-4f8...|                        2021-12-03 11:05:...|                      2021-12-03 11:05:...|                                        0|                       2021-12-02|                     STRING|                            STRING|                    Inactive|                                  STRING|            2021-12-03 11:05:...|                           2021-12-02|                                     95|                                   48|                                      48|                           348.00|                         175.00|                             88.00|                    2021-12-03 11:05:...|                                0|                     2021-12-03 11:05:...|                      2021-12-03 11:05:...|\n",
      "|               43219|      288389|                              3658|                  17fc695a-07a0-4a6...|                        2023-06-18 20:27:...|                      2023-06-18 20:27:...|                                        1|                       2023-06-18|                     STRING|                            STRING|                      Active|                                  STRING|            2023-06-18 20:27:...|                           2023-06-18|                                     36|                                   18|                                      18|                           304.00|                         153.00|                             77.00|                    2023-06-18 20:27:...|                                1|                     2023-06-18 20:27:...|                      2023-06-18 20:27:...|\n",
      "|               48349|      256787|                              2287|                  9a1de644-815e-46d...|                        2023-04-14 08:37:...|                      2023-04-14 08:37:...|                                        1|                       2023-04-13|                     STRING|                            STRING|                      Active|                                  STRING|            2023-04-14 08:37:...|                           2023-04-13|                                     32|                                   16|                                      16|                            16.00|                           8.00|                              4.00|                    2023-04-14 08:37:...|                                1|                     2023-04-14 08:37:...|                      2023-04-14 08:37:...|\n",
      "|               50710|      234053|                              1680|                  b74d0fb1-32e7-462...|                        2023-12-06 11:09:...|                      2023-12-06 11:09:...|                                        1|                       2023-12-05|                     STRING|                            STRING|                    Inactive|                                  STRING|            2023-12-06 11:09:...|                           2023-12-05|                                     29|                                   15|                                      15|                           121.00|                          61.00|                             31.00|                    2023-12-06 11:09:...|                                1|                     2023-12-06 11:09:...|                      2023-12-06 11:09:...|\n",
      "|               52774|      146316|                              8936|                  6b65a6a4-8b81-48f...|                        2021-07-07 03:31:...|                      2021-07-07 03:31:...|                                        1|                       2021-07-06|                     STRING|                            STRING|                      Active|                                  STRING|            2021-07-07 03:31:...|                           2021-07-06|                                     18|                                    9|                                       9|                            15.00|                           8.00|                              5.00|                    2021-07-07 03:31:...|                                1|                     2021-07-07 03:31:...|                      2021-07-07 03:31:...|\n",
      "|               71603|      772246|                              1425|                  47378190-96da-4da...|                        2022-07-09 04:39:...|                      2022-07-09 04:39:...|                                        0|                       2022-07-08|                     STRING|                            STRING|                      Active|                                  STRING|            2022-07-09 04:39:...|                           2022-07-08|                                     95|                                   48|                                      48|                           368.00|                         185.00|                             93.00|                    2022-07-09 04:39:...|                                0|                     2022-07-09 04:39:...|                      2022-07-09 04:39:...|\n",
      "|               79415|      107473|                              9675|                  c241330b-01a9-471...|                        2021-05-05 12:50:...|                      2021-05-05 12:50:...|                                        1|                       2021-05-04|                     STRING|                            STRING|                      Active|                                  STRING|            2021-05-05 12:50:...|                           2021-05-04|                                     14|                                    7|                                       7|                           114.00|                          58.00|                             30.00|                    2021-05-05 12:50:...|                                1|                     2021-05-05 12:50:...|                      2021-05-05 12:50:...|\n",
      "|               79470|      709570|                              6913|                  6c307511-b2b9-437...|                        2021-11-28 10:50:...|                      2021-11-28 10:50:...|                                        0|                       2021-11-27|                     STRING|                            STRING|                      Active|                                  STRING|            2021-11-28 10:50:...|                           2021-11-27|                                     87|                                   44|                                      44|                           143.00|                          72.00|                             36.00|                    2021-11-28 10:50:...|                                0|                     2021-11-28 10:50:...|                      2021-11-28 10:50:...|\n",
      "|               81071|      776646|                               521|                  371ecd7b-27cd-413...|                        2022-10-08 14:44:...|                      2022-10-08 14:44:...|                                        0|                       2022-10-07|                     STRING|                            STRING|                      Active|                                  STRING|            2022-10-08 14:44:...|                           2022-10-07|                                     95|                                   48|                                      48|                           359.00|                         180.00|                             91.00|                    2022-10-08 14:44:...|                                0|                     2022-10-08 14:44:...|                      2022-10-08 14:44:...|\n",
      "|              101757|      935518|                               489|                  1a2a73ed-562b-4f7...|                        2021-05-01 23:05:...|                      2021-05-01 23:05:...|                                        0|                       2021-05-01|                     STRING|                            STRING|                      Active|                                  STRING|            2021-05-01 23:05:...|                           2021-05-01|                                     70|                                   35|                                      35|                           143.00|                          72.00|                             36.00|                    2021-05-01 23:05:...|                                0|                     2021-05-01 23:05:...|                      2021-05-01 23:05:...|\n",
      "|              103119|      571858|                              1536|                  5be6128e-18c2-479...|                        2021-11-06 18:09:...|                      2021-11-06 18:09:...|                                        1|                       2021-11-05|                     STRING|                            STRING|                      Active|                                  STRING|            2021-11-06 18:09:...|                           2021-11-05|                                     12|                                    6|                                       6|                           492.00|                         197.00|                             99.00|                    2021-11-06 18:09:...|                                1|                     2021-11-06 18:09:...|                      2021-11-06 18:09:...|\n",
      "|              109751|       91161|                              3583|                  43b7a3a6-9a8d-4a0...|                        2023-03-15 23:27:...|                      2023-03-15 23:27:...|                                        0|                       2023-03-15|                     STRING|                            STRING|                      Active|                                  STRING|            2023-03-15 23:27:...|                           2023-03-15|                                     76|                                   38|                                      38|                            49.00|                          25.00|                             13.00|                    2023-03-15 23:27:...|                                0|                     2023-03-15 23:27:...|                      2023-03-15 23:27:...|\n",
      "|              120461|      619176|                              3812|                  759cde66-bacf-43d...|                        2022-11-20 23:44:...|                      2022-11-20 23:44:...|                                        0|                       2022-11-20|                     STRING|                            STRING|                      Active|                                  STRING|            2022-11-20 23:44:...|                           2022-11-20|                                     55|                                   28|                                      28|                           185.00|                          93.00|                             47.00|                    2022-11-20 23:44:...|                                0|                     2022-11-20 23:44:...|                      2022-11-20 23:44:...|\n",
      "|              127543|      442417|                              8280|                  ec1b8ca1-f91e-4d4...|                        2021-11-30 10:15:...|                      2021-11-30 10:15:...|                                        1|                       2021-11-29|                     STRING|                            STRING|                    Inactive|                                  STRING|            2021-11-30 10:15:...|                           2021-11-29|                                      5|                                    3|                                       3|                           136.00|                          68.00|                             34.00|                    2021-11-30 10:15:...|                                1|                     2021-11-30 10:15:...|                      2021-11-30 10:15:...|\n",
      "|              131637|       33326|                              9864|                  4b0dbb41-8d52-48f...|                        2023-01-08 13:20:...|                      2023-01-08 13:20:...|                                        1|                       2023-01-07|                     STRING|                            STRING|                      Active|                                  STRING|            2023-01-08 13:20:...|                           2023-01-07|                                      4|                                    2|                                       2|                           275.00|                         138.00|                             69.00|                    2023-01-08 13:20:...|                                1|                     2023-01-08 13:20:...|                      2023-01-08 13:20:...|\n",
      "|              133033|       31244|                               435|                  e2acf72f-9e57-4f7...|                        2023-09-06 19:04:...|                      2023-09-06 19:04:...|                                        1|                       2023-09-06|                     STRING|                            STRING|                      Active|                                  STRING|            2023-09-06 19:04:...|                           2023-09-06|                                     12|                                    6|                                       6|                            42.00|                          22.00|                             12.00|                    2023-09-06 19:04:...|                                1|                     2023-09-06 19:04:...|                      2023-09-06 19:04:...|\n",
      "|              139259|       98246|                              9196|                  3139d32c-93cd-49b...|                        2021-04-10 00:09:...|                      2021-04-10 00:09:...|                                        1|                       2021-04-09|                     STRING|                            STRING|                    Inactive|                                  STRING|            2021-04-10 00:09:...|                           2021-04-09|                                     28|                                   14|                                      14|                           426.00|                         162.00|                             82.00|                    2021-04-10 00:09:...|                                1|                     2021-04-10 00:09:...|                      2021-04-10 00:09:...|\n",
      "+--------------------+------------+----------------------------------+--------------------------------------+--------------------------------------------+------------------------------------------+-----------------------------------------+---------------------------------+---------------------------+----------------------------------+----------------------------+----------------------------------------+--------------------------------+-------------------------------------+---------------------------------------+-------------------------------------+----------------------------------------+---------------------------------+-------------------------------+----------------------------------+----------------------------------------+---------------------------------+-----------------------------------------+------------------------------------------+\n",
      "only showing top 20 rows\n",
      "\n"
     ]
    }
   ],
   "source": [
    "# spark.catalog.listTables()\n",
    "# tmp_df.write.insertInto('consumer_loyalty', overwrite=True)\n",
    "spark.sql('select * from consumer_loyalty').show()"
   ]
  },
  {
   "cell_type": "code",
   "execution_count": 36,
   "metadata": {},
   "outputs": [
    {
     "name": "stdout",
     "output_type": "stream",
     "text": [
      "+-------------------+-------------------------------------------------+\n",
      "|Source_Consumer_Key|Consumer_Master_Registry_Global_Unique_Identifier|\n",
      "+-------------------+-------------------------------------------------+\n",
      "+-------------------+-------------------------------------------------+\n",
      "\n"
     ]
    }
   ],
   "source": [
    "groupBy_columns = ['Division_Code_Key','Region_Code_Key','Affiliate_Code_Key','Market_Code_Key']\n",
    "\n",
    "# Total Buyers, will join it to Consumer Dimention on Consumer Master Reg GUID\n",
    "trans_head = spark.read.table('transaction_header').select('Source_Consumer_Key')\n",
    "master_reg = spark.read.table('master_registry').select('Source_Consumer_Key', 'Consumer_Master_Registry_Global_Unique_Identifier')\n",
    "total_buyers = (\n",
    "    master_reg\n",
    "    .join(trans_head, master_reg.Source_Consumer_Key == trans_head.Source_Consumer_Key, 'left')\n",
    ")\n",
    "master_reg.show()"
   ]
  },
  {
   "cell_type": "code",
   "execution_count": null,
   "metadata": {},
   "outputs": [],
   "source": [
    "# Lifecycle\n",
    "lifecycle = (\n",
    "    spark.read.table('consumer_lifecycle')\n",
    "    .select('Consumer_Key','Consumer_Lifecycle_Status_Code_Key')\n",
    "    .where(F.col('Consumer_Lifecycle_Status_Current_Record_Indicator') == 1)\n",
    ")"
   ]
  },
  {
   "cell_type": "code",
   "execution_count": 32,
   "metadata": {},
   "outputs": [
    {
     "name": "stdout",
     "output_type": "stream",
     "text": [
      "+------------+--------------------------------------+\n",
      "|Consumer_Key|Consumer_Loyalty_Membership_Identifier|\n",
      "+------------+--------------------------------------+\n",
      "|      116739|                  23b8c1e9-3924-46d...|\n",
      "|       26225|                  bd9c66b3-ad3c-4d6...|\n",
      "|      288389|                  17fc695a-07a0-4a6...|\n",
      "|      256787|                  9a1de644-815e-46d...|\n",
      "|      234053|                  b74d0fb1-32e7-462...|\n",
      "|      146316|                  6b65a6a4-8b81-48f...|\n",
      "|      107473|                  c241330b-01a9-471...|\n",
      "|      571858|                  5be6128e-18c2-479...|\n",
      "|      442417|                  ec1b8ca1-f91e-4d4...|\n",
      "|       33326|                  4b0dbb41-8d52-48f...|\n",
      "|       31244|                  e2acf72f-9e57-4f7...|\n",
      "|       98246|                  3139d32c-93cd-49b...|\n",
      "|      229258|                  a9488d99-0bbb-459...|\n",
      "|      631262|                  7412b293-4729-473...|\n",
      "|      588508|                  ab9099a4-35a2-40a...|\n",
      "|      439898|                  5304317f-af42-412...|\n",
      "|      617889|                  10f1bc81-448a-4a9...|\n",
      "|      291704|                  9132b63e-f162-47e...|\n",
      "|      911527|                  e27a984d-6548-41d...|\n",
      "|      844962|                  bf3c4c06-4343-48b...|\n",
      "+------------+--------------------------------------+\n",
      "only showing top 20 rows\n",
      "\n"
     ]
    }
   ],
   "source": [
    "# Loyalty\n",
    "loyalty = spark.read.table('consumer_loyalty').select('Consumer_Key','Consumer_Loyalty_Membership_Identifier').filter(F.col('Consumer_Loyalty_Active_Indicator') == 1)\n",
    "loyalty.show()"
   ]
  },
  {
   "cell_type": "code",
   "execution_count": 74,
   "metadata": {},
   "outputs": [
    {
     "name": "stdout",
     "output_type": "stream",
     "text": [
      "+------------+-----------------+---------------+------------------+---------------+-------------------------------------------+---------------------------------------+------------------------------------------------+-----------------------------------------+\n",
      "|Consumer_Key|Division_Code_Key|Region_Code_Key|Affiliate_Code_Key|Market_Code_Key|Consumer_Phone_SMS_Opt_In_Opt_Out_Indicator|Consumer_Email_Opt_In_Opt_Out_Indicator|Consumer_Address_Postal_Opt_In_Opt_Out_Indicator|Consumer_Address_Current_Record_Indicator|\n",
      "+------------+-----------------+---------------+------------------+---------------+-------------------------------------------+---------------------------------------+------------------------------------------------+-----------------------------------------+\n",
      "|        1701|                1|             10|            886963|              1|                                          0|                                   NULL|                                            NULL|                                     NULL|\n",
      "|       23735|                3|             10|            184991|              1|                                          1|                                   NULL|                                            NULL|                                     NULL|\n",
      "|       35873|               10|             10|            588046|              1|                                       NULL|                                      0|                                            NULL|                                     NULL|\n",
      "|       43076|               12|             10|            800039|              1|                                       NULL|                                      1|                                            NULL|                                     NULL|\n",
      "|       43219|               22|             10|            733440|              1|                                       NULL|                                   NULL|                                            NULL|                                     NULL|\n",
      "|       48349|               21|             10|            449523|              1|                                          1|                                   NULL|                                            NULL|                                     NULL|\n",
      "|       50710|               17|             10|            516335|              1|                                       NULL|                                   NULL|                                            NULL|                                     NULL|\n",
      "|       52774|               12|             10|            754082|              1|                                       NULL|                                   NULL|                                            NULL|                                     NULL|\n",
      "|       71603|               21|             10|            260413|              1|                                       NULL|                                   NULL|                                            NULL|                                     NULL|\n",
      "|       79415|               10|             10|            586846|              1|                                          0|                                   NULL|                                            NULL|                                     NULL|\n",
      "|       79470|                1|             10|            809587|              1|                                          1|                                   NULL|                                            NULL|                                     NULL|\n",
      "|       81071|               21|             10|            317140|              1|                                       NULL|                                   NULL|                                            NULL|                                     NULL|\n",
      "|      101757|               12|             10|            989387|              1|                                       NULL|                                   NULL|                                            NULL|                                     NULL|\n",
      "|      103119|               26|             10|            212090|              1|                                          1|                                   NULL|                                            NULL|                                     NULL|\n",
      "|      109751|               17|             10|            319009|              1|                                       NULL|                                      0|                                            NULL|                                     NULL|\n",
      "|      120461|               11|             10|            483619|              1|                                       NULL|                                   NULL|                                            NULL|                                     NULL|\n",
      "|      127543|               26|             10|            123148|              1|                                          1|                                   NULL|                                            NULL|                                     NULL|\n",
      "|      131637|               10|             10|            772218|              1|                                       NULL|                                      1|                                            NULL|                                     NULL|\n",
      "|      133033|               12|             10|            180857|              1|                                       NULL|                                   NULL|                                            NULL|                                     NULL|\n",
      "|      139259|               26|             10|            493745|              1|                                          1|                                   NULL|                                            NULL|                                     NULL|\n",
      "+------------+-----------------+---------------+------------------+---------------+-------------------------------------------+---------------------------------------+------------------------------------------------+-----------------------------------------+\n",
      "only showing top 20 rows\n",
      "\n"
     ]
    }
   ],
   "source": [
    "# Contactables\n",
    "phone = spark.read.table('consumer_phone').select('Consumer_Key','Consumer_Phone_SMS_Opt_In_Opt_Out_Indicator').where(F.col('Consumer_Phone_Current_Record_Indicator') == 1)\n",
    "email = spark.read.table('consumer_email').select('Consumer_Key','Consumer_Email_Opt_In_Opt_Out_Indicator').where(F.col('Consumer_Email_Current_Record_Indicator') == 1)\n",
    "address = spark.read.table('consumer_address').select('Consumer_Key','Consumer_Address_Postal_Opt_In_Opt_Out_Indicator','Consumer_Address_Current_Record_Indicator').where(F.col('Consumer_Address_Current_Record_Indicator')==1)\n",
    "consumers = spark.read.table('consumer_dimension').select('Consumer_Key', *groupBy_columns)\n",
    "contactable = (consumers\n",
    "               .join(phone, consumers.Consumer_Key == phone.Consumer_Key, 'left').drop(phone.Consumer_Key)\n",
    "               .join(email, consumers.Consumer_Key == email.Consumer_Key, 'left').drop(email.Consumer_Key)\n",
    "               .join(address, consumers.Consumer_Key == address.Consumer_Key, 'left').drop(address.Consumer_Key)\n",
    ")\n",
    "contactable.show()\n"
   ]
  },
  {
   "cell_type": "code",
   "execution_count": null,
   "metadata": {},
   "outputs": [],
   "source": []
  }
 ],
 "metadata": {
  "kernelspec": {
   "display_name": ".venv",
   "language": "python",
   "name": "python3"
  },
  "language_info": {
   "codemirror_mode": {
    "name": "ipython",
    "version": 3
   },
   "file_extension": ".py",
   "mimetype": "text/x-python",
   "name": "python",
   "nbconvert_exporter": "python",
   "pygments_lexer": "ipython3",
   "version": "3.11.7"
  }
 },
 "nbformat": 4,
 "nbformat_minor": 2
}
