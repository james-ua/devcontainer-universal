{
 "cells": [
  {
   "cell_type": "code",
   "execution_count": 1,
   "metadata": {},
   "outputs": [
    {
     "name": "stderr",
     "output_type": "stream",
     "text": [
      "Setting default log level to \"WARN\".\n",
      "To adjust logging level use sc.setLogLevel(newLevel). For SparkR, use setLogLevel(newLevel).\n",
      "24/03/31 09:42:45 WARN NativeCodeLoader: Unable to load native-hadoop library for your platform... using builtin-java classes where applicable\n"
     ]
    },
    {
     "name": "stderr",
     "output_type": "stream",
     "text": [
      "24/03/31 09:42:58 WARN GarbageCollectionMetrics: To enable non-built-in garbage collector(s) List(G1 Concurrent GC), users should configure it(them) to spark.eventLog.gcMetrics.youngGenerationGarbageCollectors or spark.eventLog.gcMetrics.oldGenerationGarbageCollectors\n"
     ]
    }
   ],
   "source": [
    "import pyspark\n",
    "from pyspark.sql import SparkSession, DataFrame\n",
    "\n",
    "spark = SparkSession \\\n",
    "    .builder \\\n",
    "    .master(\"local[1]\") \\\n",
    "    .appName(\"pyspark-test01\") \\\n",
    "    .config(\"spark.sql.warehouse.dir\", \"spark-warehouse\") \\\n",
    "    .enableHiveSupport() \\\n",
    "    .getOrCreate()"
   ]
  },
  {
   "cell_type": "code",
   "execution_count": 1,
   "metadata": {},
   "outputs": [
    {
     "ename": "NameError",
     "evalue": "name 'spark' is not defined",
     "output_type": "error",
     "traceback": [
      "\u001b[0;31m---------------------------------------------------------------------------\u001b[0m",
      "\u001b[0;31mNameError\u001b[0m                                 Traceback (most recent call last)",
      "Cell \u001b[0;32mIn[1], line 2\u001b[0m\n\u001b[1;32m      1\u001b[0m \u001b[38;5;66;03m# Consumer Dimension\u001b[39;00m\n\u001b[0;32m----> 2\u001b[0m consumer_dim \u001b[38;5;241m=\u001b[39m \u001b[43mspark\u001b[49m\u001b[38;5;241m.\u001b[39mread\u001b[38;5;241m.\u001b[39mcsv(\u001b[38;5;124m'\u001b[39m\u001b[38;5;124msrc/dim_2024_03_29.csv\u001b[39m\u001b[38;5;124m'\u001b[39m, header\u001b[38;5;241m=\u001b[39m\u001b[38;5;28;01mTrue\u001b[39;00m, inferSchema\u001b[38;5;241m=\u001b[39m\u001b[38;5;28;01mTrue\u001b[39;00m)\n\u001b[1;32m      3\u001b[0m consumer_dim\u001b[38;5;241m.\u001b[39mwrite\u001b[38;5;241m.\u001b[39mmode(\u001b[38;5;124m'\u001b[39m\u001b[38;5;124moverwrite\u001b[39m\u001b[38;5;124m'\u001b[39m)\u001b[38;5;241m.\u001b[39msaveAsTable(\u001b[38;5;124m'\u001b[39m\u001b[38;5;124mconsumer_dimension\u001b[39m\u001b[38;5;124m'\u001b[39m)\n\u001b[1;32m      5\u001b[0m \u001b[38;5;66;03m# Consumer Email\u001b[39;00m\n",
      "\u001b[0;31mNameError\u001b[0m: name 'spark' is not defined"
     ]
    }
   ],
   "source": [
    "# Consumer Dimension\n",
    "consumer_dim = spark.read.csv('src/dim_2024_03_29.csv', header=True, inferSchema=True)\n",
    "consumer_dim.write.mode('overwrite').saveAsTable('consumer_dimension')\n",
    "\n",
    "# Consumer Email\n",
    "consumer_email = spark.read.csv('src/email_2024_03_29.csv', header=True, inferSchema=True)\n",
    "consumer_email.write.mode('overwrite').saveAsTable('consumer_email')\n",
    "\n",
    "# Consumer Address\n",
    "consumer_address = spark.read.csv('src/address_2024_03_29.csv', header=True, inferSchema=True)\n",
    "consumer_address.write.mode('overwrite').saveAsTable('consumer_address')\n",
    "\n",
    "# Consumer Phone\n",
    "consumer_phone = spark.read.csv('src/phone_2024_03_29.csv', header=True, inferSchema=True)\n",
    "consumer_phone.write.mode('overwrite').saveAsTable('consumer_phone')\n",
    "\n",
    "# Consumer Lifecycle\n",
    "consumer_lifecycle = spark.read.csv('src/lifecycle_2024_03_29.csv', header=True, inferSchema=True)\n",
    "consumer_lifecycle.write.mode('overwrite').saveAsTable('consumer_lifecycle')\n",
    "\n",
    "# Consumer Transaction Header\n",
    "# consumer_trans_head = spark.read.csv('src/trans_head_2024_03_29.csv', header=True, inferSchema=True)\n",
    "# consumer_trans_head.write.mode('overwrite').saveAsTable('consumer_trans_head')\n",
    "\n",
    "# Consumer Master Registry\n",
    "# consumer_master_reg = spark.read.csv('src/master_reg_2024_03_29.csv', header=True, inferSchema=True)\n",
    "# consumer_master_reg.write.mode('overwrite').saveAsTable('consumer_master_reg')\n"
   ]
  },
  {
   "cell_type": "code",
   "execution_count": 13,
   "metadata": {},
   "outputs": [
    {
     "name": "stdout",
     "output_type": "stream",
     "text": [
      "root\n",
      " |-- Consumer_Key: integer (nullable = true)\n",
      " |-- Consumer_Created_Source_System_Key: integer (nullable = true)\n",
      " |-- Consumer_Last_Update_Source_System_Key: integer (nullable = true)\n",
      " |-- Consumer_Web_Push_Opt_In_Opt_Out_Source_System_Key: integer (nullable = true)\n",
      " |-- Consumer_Privacy_Policy_Consent_Source_Key: integer (nullable = true)\n",
      " |-- Consumer_Class_Code_Key: integer (nullable = true)\n",
      " |-- CFDM_Channel_Code_Key: integer (nullable = true)\n",
      " |-- Consumer_Gender_Code_Key: integer (nullable = true)\n",
      " |-- Region_Code_Key: integer (nullable = true)\n",
      " |-- Affiliate_Code_Key: integer (nullable = true)\n",
      " |-- Market_Code_Key: integer (nullable = true)\n",
      " |-- Division_Code_Key: integer (nullable = true)\n",
      " |-- Consumer_Global_Unique_Identifier: string (nullable = true)\n",
      " |-- Consumer_Level_Code: string (nullable = true)\n",
      " |-- Consumer_Valid_Record_Indicator: integer (nullable = true)\n",
      " |-- Consumer_Version_Number: integer (nullable = true)\n",
      " |-- Consumer_Offline_Identifier: string (nullable = true)\n",
      " |-- Consumer_POS_Identifier: string (nullable = true)\n",
      " |-- Consumer_Online_Identifier: string (nullable = true)\n",
      " |-- Consumer_Salutation_Code: string (nullable = true)\n",
      " |-- Consumer_First_Name: string (nullable = true)\n",
      " |-- Consumer_Middle_Name: string (nullable = true)\n",
      " |-- Consumer_Last_Name: string (nullable = true)\n",
      " |-- Consumer_Language_Code: string (nullable = true)\n",
      " |-- Consumer_Birth_Day_Number: integer (nullable = true)\n",
      " |-- Consumer_Birth_Month_Number: integer (nullable = true)\n",
      " |-- Consumer_Birth_Year_Number: integer (nullable = true)\n",
      " |-- Consumer_Loyalty_Opt_In_Opt_Out_Indicator: integer (nullable = true)\n",
      " |-- Consumer_Web_Push_Opt_In_Opt_Out_Indicator: integer (nullable = true)\n",
      " |-- Consumer_Anonymization_Indicator: integer (nullable = true)\n",
      " |-- Consumer_Pending_Braze_Archival_Indicator: integer (nullable = true)\n",
      " |-- Consumer_Pending_Braze_Archival_Date: date (nullable = true)\n",
      " |-- Consumer_Web_Push_Opt_In_Opt_Out_Update_Date: date (nullable = true)\n",
      " |-- Consumer_Online_Registration_Date: date (nullable = true)\n",
      " |-- Consumer_Online_Registration_Status_Code: string (nullable = true)\n",
      " |-- Consumer_Offline_Registration_Date: date (nullable = true)\n",
      " |-- Consumer_Registration_Store_Identifier: string (nullable = true)\n",
      " |-- Consumer_Archived_In_Braze_Indicator: integer (nullable = true)\n",
      " |-- Consumer_Profile_Update_Indicator: integer (nullable = true)\n",
      " |-- Consumer_Profile_Last_Update_Date: date (nullable = true)\n",
      " |-- Consumer_Privacy_Policy_Consent_Date: date (nullable = true)\n",
      " |-- Consumer_Privacy_Policy_Reconsent_Date: date (nullable = true)\n",
      " |-- Consumer_Anonymization_Timestamp: timestamp (nullable = true)\n",
      " |-- Consumer_Record_Created_Timestamp: timestamp (nullable = true)\n",
      " |-- Consumer_Record_Modified_Timestamp: timestamp (nullable = true)\n",
      "\n"
     ]
    }
   ],
   "source": [
    "c = spark.read.table('consumer_dimension')\n",
    "c.printSchema()\n",
    "spark.stop()"
   ]
  },
  {
   "cell_type": "code",
   "execution_count": 9,
   "metadata": {},
   "outputs": [
    {
     "name": "stderr",
     "output_type": "stream",
     "text": [
      "24/03/31 09:54:29 WARN ResolveSessionCatalog: A Hive serde table will be created as there is no table provider specified. You can set spark.sql.legacy.createHiveTableByDefault to false so that native data source table will be created instead.\n",
      "24/03/31 09:54:29 WARN HiveMetaStore: Location: file:/workspaces/devcontainer-universal/spark-warehouse/master_registry specified for non-external table:master_registry\n"
     ]
    },
    {
     "data": {
      "text/plain": [
       "DataFrame[]"
      ]
     },
     "execution_count": 9,
     "metadata": {},
     "output_type": "execute_result"
    }
   ],
   "source": [
    "q = '''\n",
    "CREATE TABLE master_registry (\n",
    "  Consumer_Master_Registry_Key BIGINT NOT NULL,\n",
    "  Region_Code_Key BIGINT,\n",
    "  Affiliate_Code_Key BIGINT,\n",
    "  Market_Code_Key BIGINT,\n",
    "  Division_Code_Key BIGINT,\n",
    "  Source_Consumer_Key BIGINT NOT NULL,\n",
    "  Consumer_Master_Registry_Record_Valid_From_Timestamp TIMESTAMP NOT NULL,\n",
    "  Consumer_Master_Level_Code STRING NOT NULL,\n",
    "  Consumer_Master_Registry_Record_Valid_To_Timestamp TIMESTAMP NOT NULL,\n",
    "  Consumer_Master_Registry_Global_Unique_Identifier STRING NOT NULL,\n",
    "  Consumer_Master_Registry_Current_Record_Indicator TINYINT NOT NULL,\n",
    "  Consumer_Master_Registry_Record_Created_Timestamp TIMESTAMP NOT NULL,\n",
    "  Consumer_Master_Registry_Record_Modified_Timestamp TIMESTAMP NOT NULL)\n",
    "'''\n",
    "spark.sql(q)"
   ]
  },
  {
   "cell_type": "code",
   "execution_count": 17,
   "metadata": {},
   "outputs": [],
   "source": [
    "spark.sparkContext.stop()"
   ]
  }
 ],
 "metadata": {
  "kernelspec": {
   "display_name": ".venv",
   "language": "python",
   "name": "python3"
  },
  "language_info": {
   "codemirror_mode": {
    "name": "ipython",
    "version": 3
   },
   "file_extension": ".py",
   "mimetype": "text/x-python",
   "name": "python",
   "nbconvert_exporter": "python",
   "pygments_lexer": "ipython3",
   "version": "3.11.7"
  }
 },
 "nbformat": 4,
 "nbformat_minor": 2
}
